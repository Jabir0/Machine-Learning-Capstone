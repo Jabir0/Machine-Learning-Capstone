{
 "cells": [
  {
   "cell_type": "markdown",
   "id": "b73babcb",
   "metadata": {
    "papermill": {
     "duration": 0.006003,
     "end_time": "2024-11-27T01:23:29.197484",
     "exception": false,
     "start_time": "2024-11-27T01:23:29.191481",
     "status": "completed"
    },
    "tags": []
   },
   "source": [
    "# Setup & Import Libraries\n",
    "\n",
    "### Pada tahap ini, kita mengimpor library yang diperlukan untuk analisis data, preprocessing, dan pembuatan model machine learning:\n",
    "\n",
    "- `numpy` dan `pandas`: Digunakan untuk manipulasi data.\n",
    "- `matplotlib` dan `seaborn`: Digunakan untuk visualisasi data.\n",
    "- `sklearn`: Digunakan untuk preprocessing data dan pembagian dataset.\n",
    "- `tensorflow.keras`: Digunakan untuk membuat dan melatih model jaringan saraf tiruan.\n",
    "\n",
    "Selain itu, juga memindai direktori input di platform Kaggle untuk memastikan dataset tersedia."
   ]
  },
  {
   "cell_type": "code",
   "execution_count": 1,
   "id": "045dc697",
   "metadata": {
    "_cell_guid": "b1076dfc-b9ad-4769-8c92-a6c4dae69d19",
    "_uuid": "8f2839f25d086af736a60e9eeb907d3b93b6e0e5",
    "execution": {
     "iopub.execute_input": "2024-11-27T01:23:29.209565Z",
     "iopub.status.busy": "2024-11-27T01:23:29.209139Z",
     "iopub.status.idle": "2024-11-27T01:23:47.002746Z",
     "shell.execute_reply": "2024-11-27T01:23:47.001487Z"
    },
    "papermill": {
     "duration": 17.80254,
     "end_time": "2024-11-27T01:23:47.005206",
     "exception": false,
     "start_time": "2024-11-27T01:23:29.202666",
     "status": "completed"
    },
    "tags": []
   },
   "outputs": [
    {
     "name": "stdout",
     "output_type": "stream",
     "text": [
      "/kaggle/input/maternal-health-risk-data/Maternal Health Risk Data Set.csv\n"
     ]
    }
   ],
   "source": [
    "# This Python 3 environment comes with many helpful analytics libraries installed\n",
    "# It is defined by the kaggle/python Docker image: https://github.com/kaggle/docker-python\n",
    "# For example, here's several helpful packages to load\n",
    "\n",
    "import numpy as np # linear algebra\n",
    "import pandas as pd # data processing, CSV file I/O (e.g. pd.read_csv)\n",
    "\n",
    "# Input data files are available in the read-only \"../input/\" directory\n",
    "# For example, running this (by clicking run or pressing Shift+Enter) will list all files under the input directory\n",
    "\n",
    "import os\n",
    "for dirname, _, filenames in os.walk('/kaggle/input'):\n",
    "    for filename in filenames:\n",
    "        print(os.path.join(dirname, filename))\n",
    "\n",
    "# You can write up to 20GB to the current directory (/kaggle/working/) that gets preserved as output when you create a version using \"Save & Run All\" \n",
    "# You can also write temporary files to /kaggle/temp/, but they won't be saved outside of the current session\n",
    "\n",
    "from sklearn.model_selection import train_test_split \n",
    "from sklearn.preprocessing import StandardScaler\n",
    "import tensorflow as tf\n",
    "from tensorflow.keras.models import Sequential\n",
    "from tensorflow.keras.optimizers import Adam\n",
    "from tensorflow.keras.layers import Dense, Dropout, BatchNormalization\n",
    "from sklearn.preprocessing import LabelEncoder\n",
    "import matplotlib.pyplot as plt\n",
    "import seaborn as sns"
   ]
  },
  {
   "cell_type": "markdown",
   "id": "b9e52f2e",
   "metadata": {
    "papermill": {
     "duration": 0.004828,
     "end_time": "2024-11-27T01:23:47.015388",
     "exception": false,
     "start_time": "2024-11-27T01:23:47.010560",
     "status": "completed"
    },
    "tags": []
   },
   "source": [
    "# Data Loading & Exploration\n",
    "### Dataset dimuat dari file CSV dan dilakukan eksplorasi awal untuk memahami struktur data. Langkah-langkah yang dilakukan:\n",
    "\n",
    "- Memuat dataset, menampilkan sampel data, deskripsi statistik, dan informasi kolom.\n",
    "- Memeriksa tipe data kolom untuk memastikan konsistensi.\n",
    "- Mendapatkan deskripsi statistik dasar seperti rata-rata, nilai maksimum, dan minimum.\n",
    "- Mengidentifikasi nilai yang hilang di dalam dataset.\n",
    "- Membuat visualisasi distribusi kelas pada kolom target (`RiskLevel`) menggunakan `countplot`."
   ]
  },
  {
   "cell_type": "code",
   "execution_count": 2,
   "id": "99333229",
   "metadata": {
    "execution": {
     "iopub.execute_input": "2024-11-27T01:23:47.027548Z",
     "iopub.status.busy": "2024-11-27T01:23:47.026893Z",
     "iopub.status.idle": "2024-11-27T01:23:47.075533Z",
     "shell.execute_reply": "2024-11-27T01:23:47.074322Z"
    },
    "papermill": {
     "duration": 0.057434,
     "end_time": "2024-11-27T01:23:47.077915",
     "exception": false,
     "start_time": "2024-11-27T01:23:47.020481",
     "status": "completed"
    },
    "tags": []
   },
   "outputs": [
    {
     "data": {
      "text/html": [
       "<div>\n",
       "<style scoped>\n",
       "    .dataframe tbody tr th:only-of-type {\n",
       "        vertical-align: middle;\n",
       "    }\n",
       "\n",
       "    .dataframe tbody tr th {\n",
       "        vertical-align: top;\n",
       "    }\n",
       "\n",
       "    .dataframe thead th {\n",
       "        text-align: right;\n",
       "    }\n",
       "</style>\n",
       "<table border=\"1\" class=\"dataframe\">\n",
       "  <thead>\n",
       "    <tr style=\"text-align: right;\">\n",
       "      <th></th>\n",
       "      <th>Age</th>\n",
       "      <th>SystolicBP</th>\n",
       "      <th>DiastolicBP</th>\n",
       "      <th>BS</th>\n",
       "      <th>BodyTemp</th>\n",
       "      <th>HeartRate</th>\n",
       "      <th>RiskLevel</th>\n",
       "    </tr>\n",
       "  </thead>\n",
       "  <tbody>\n",
       "    <tr>\n",
       "      <th>0</th>\n",
       "      <td>25</td>\n",
       "      <td>130</td>\n",
       "      <td>80</td>\n",
       "      <td>15.0</td>\n",
       "      <td>98.0</td>\n",
       "      <td>86</td>\n",
       "      <td>high risk</td>\n",
       "    </tr>\n",
       "    <tr>\n",
       "      <th>1</th>\n",
       "      <td>35</td>\n",
       "      <td>140</td>\n",
       "      <td>90</td>\n",
       "      <td>13.0</td>\n",
       "      <td>98.0</td>\n",
       "      <td>70</td>\n",
       "      <td>high risk</td>\n",
       "    </tr>\n",
       "    <tr>\n",
       "      <th>2</th>\n",
       "      <td>29</td>\n",
       "      <td>90</td>\n",
       "      <td>70</td>\n",
       "      <td>8.0</td>\n",
       "      <td>100.0</td>\n",
       "      <td>80</td>\n",
       "      <td>high risk</td>\n",
       "    </tr>\n",
       "    <tr>\n",
       "      <th>3</th>\n",
       "      <td>30</td>\n",
       "      <td>140</td>\n",
       "      <td>85</td>\n",
       "      <td>7.0</td>\n",
       "      <td>98.0</td>\n",
       "      <td>70</td>\n",
       "      <td>high risk</td>\n",
       "    </tr>\n",
       "    <tr>\n",
       "      <th>4</th>\n",
       "      <td>35</td>\n",
       "      <td>120</td>\n",
       "      <td>60</td>\n",
       "      <td>6.1</td>\n",
       "      <td>98.0</td>\n",
       "      <td>76</td>\n",
       "      <td>low risk</td>\n",
       "    </tr>\n",
       "  </tbody>\n",
       "</table>\n",
       "</div>"
      ],
      "text/plain": [
       "   Age  SystolicBP  DiastolicBP    BS  BodyTemp  HeartRate  RiskLevel\n",
       "0   25         130           80  15.0      98.0         86  high risk\n",
       "1   35         140           90  13.0      98.0         70  high risk\n",
       "2   29          90           70   8.0     100.0         80  high risk\n",
       "3   30         140           85   7.0      98.0         70  high risk\n",
       "4   35         120           60   6.1      98.0         76   low risk"
      ]
     },
     "execution_count": 2,
     "metadata": {},
     "output_type": "execute_result"
    }
   ],
   "source": [
    "df = pd.read_csv('/kaggle/input/maternal-health-risk-data/Maternal Health Risk Data Set.csv')\n",
    "df.head()"
   ]
  },
  {
   "cell_type": "code",
   "execution_count": 3,
   "id": "d51f4aa7",
   "metadata": {
    "execution": {
     "iopub.execute_input": "2024-11-27T01:23:47.090355Z",
     "iopub.status.busy": "2024-11-27T01:23:47.089960Z",
     "iopub.status.idle": "2024-11-27T01:23:47.104284Z",
     "shell.execute_reply": "2024-11-27T01:23:47.103044Z"
    },
    "papermill": {
     "duration": 0.023172,
     "end_time": "2024-11-27T01:23:47.106544",
     "exception": false,
     "start_time": "2024-11-27T01:23:47.083372",
     "status": "completed"
    },
    "tags": []
   },
   "outputs": [
    {
     "data": {
      "text/html": [
       "<div>\n",
       "<style scoped>\n",
       "    .dataframe tbody tr th:only-of-type {\n",
       "        vertical-align: middle;\n",
       "    }\n",
       "\n",
       "    .dataframe tbody tr th {\n",
       "        vertical-align: top;\n",
       "    }\n",
       "\n",
       "    .dataframe thead th {\n",
       "        text-align: right;\n",
       "    }\n",
       "</style>\n",
       "<table border=\"1\" class=\"dataframe\">\n",
       "  <thead>\n",
       "    <tr style=\"text-align: right;\">\n",
       "      <th></th>\n",
       "      <th>Age</th>\n",
       "      <th>SystolicBP</th>\n",
       "      <th>DiastolicBP</th>\n",
       "      <th>BS</th>\n",
       "      <th>BodyTemp</th>\n",
       "      <th>HeartRate</th>\n",
       "      <th>RiskLevel</th>\n",
       "    </tr>\n",
       "  </thead>\n",
       "  <tbody>\n",
       "    <tr>\n",
       "      <th>1009</th>\n",
       "      <td>22</td>\n",
       "      <td>120</td>\n",
       "      <td>60</td>\n",
       "      <td>15.0</td>\n",
       "      <td>98.0</td>\n",
       "      <td>80</td>\n",
       "      <td>high risk</td>\n",
       "    </tr>\n",
       "    <tr>\n",
       "      <th>1010</th>\n",
       "      <td>55</td>\n",
       "      <td>120</td>\n",
       "      <td>90</td>\n",
       "      <td>18.0</td>\n",
       "      <td>98.0</td>\n",
       "      <td>60</td>\n",
       "      <td>high risk</td>\n",
       "    </tr>\n",
       "    <tr>\n",
       "      <th>1011</th>\n",
       "      <td>35</td>\n",
       "      <td>85</td>\n",
       "      <td>60</td>\n",
       "      <td>19.0</td>\n",
       "      <td>98.0</td>\n",
       "      <td>86</td>\n",
       "      <td>high risk</td>\n",
       "    </tr>\n",
       "    <tr>\n",
       "      <th>1012</th>\n",
       "      <td>43</td>\n",
       "      <td>120</td>\n",
       "      <td>90</td>\n",
       "      <td>18.0</td>\n",
       "      <td>98.0</td>\n",
       "      <td>70</td>\n",
       "      <td>high risk</td>\n",
       "    </tr>\n",
       "    <tr>\n",
       "      <th>1013</th>\n",
       "      <td>32</td>\n",
       "      <td>120</td>\n",
       "      <td>65</td>\n",
       "      <td>6.0</td>\n",
       "      <td>101.0</td>\n",
       "      <td>76</td>\n",
       "      <td>mid risk</td>\n",
       "    </tr>\n",
       "  </tbody>\n",
       "</table>\n",
       "</div>"
      ],
      "text/plain": [
       "      Age  SystolicBP  DiastolicBP    BS  BodyTemp  HeartRate  RiskLevel\n",
       "1009   22         120           60  15.0      98.0         80  high risk\n",
       "1010   55         120           90  18.0      98.0         60  high risk\n",
       "1011   35          85           60  19.0      98.0         86  high risk\n",
       "1012   43         120           90  18.0      98.0         70  high risk\n",
       "1013   32         120           65   6.0     101.0         76   mid risk"
      ]
     },
     "execution_count": 3,
     "metadata": {},
     "output_type": "execute_result"
    }
   ],
   "source": [
    "df.tail()"
   ]
  },
  {
   "cell_type": "code",
   "execution_count": 4,
   "id": "387aa6dc",
   "metadata": {
    "execution": {
     "iopub.execute_input": "2024-11-27T01:23:47.120980Z",
     "iopub.status.busy": "2024-11-27T01:23:47.120606Z",
     "iopub.status.idle": "2024-11-27T01:23:47.150367Z",
     "shell.execute_reply": "2024-11-27T01:23:47.148951Z"
    },
    "papermill": {
     "duration": 0.040158,
     "end_time": "2024-11-27T01:23:47.153834",
     "exception": false,
     "start_time": "2024-11-27T01:23:47.113676",
     "status": "completed"
    },
    "tags": []
   },
   "outputs": [
    {
     "name": "stdout",
     "output_type": "stream",
     "text": [
      "<class 'pandas.core.frame.DataFrame'>\n",
      "RangeIndex: 1014 entries, 0 to 1013\n",
      "Data columns (total 7 columns):\n",
      " #   Column       Non-Null Count  Dtype  \n",
      "---  ------       --------------  -----  \n",
      " 0   Age          1014 non-null   int64  \n",
      " 1   SystolicBP   1014 non-null   int64  \n",
      " 2   DiastolicBP  1014 non-null   int64  \n",
      " 3   BS           1014 non-null   float64\n",
      " 4   BodyTemp     1014 non-null   float64\n",
      " 5   HeartRate    1014 non-null   int64  \n",
      " 6   RiskLevel    1014 non-null   object \n",
      "dtypes: float64(2), int64(4), object(1)\n",
      "memory usage: 55.6+ KB\n"
     ]
    }
   ],
   "source": [
    "df.info()"
   ]
  },
  {
   "cell_type": "code",
   "execution_count": 5,
   "id": "7c2e3f43",
   "metadata": {
    "execution": {
     "iopub.execute_input": "2024-11-27T01:23:47.166876Z",
     "iopub.status.busy": "2024-11-27T01:23:47.166509Z",
     "iopub.status.idle": "2024-11-27T01:23:47.195910Z",
     "shell.execute_reply": "2024-11-27T01:23:47.194689Z"
    },
    "papermill": {
     "duration": 0.038523,
     "end_time": "2024-11-27T01:23:47.198024",
     "exception": false,
     "start_time": "2024-11-27T01:23:47.159501",
     "status": "completed"
    },
    "tags": []
   },
   "outputs": [
    {
     "data": {
      "text/html": [
       "<div>\n",
       "<style scoped>\n",
       "    .dataframe tbody tr th:only-of-type {\n",
       "        vertical-align: middle;\n",
       "    }\n",
       "\n",
       "    .dataframe tbody tr th {\n",
       "        vertical-align: top;\n",
       "    }\n",
       "\n",
       "    .dataframe thead th {\n",
       "        text-align: right;\n",
       "    }\n",
       "</style>\n",
       "<table border=\"1\" class=\"dataframe\">\n",
       "  <thead>\n",
       "    <tr style=\"text-align: right;\">\n",
       "      <th></th>\n",
       "      <th>Age</th>\n",
       "      <th>SystolicBP</th>\n",
       "      <th>DiastolicBP</th>\n",
       "      <th>BS</th>\n",
       "      <th>BodyTemp</th>\n",
       "      <th>HeartRate</th>\n",
       "    </tr>\n",
       "  </thead>\n",
       "  <tbody>\n",
       "    <tr>\n",
       "      <th>count</th>\n",
       "      <td>1014.000000</td>\n",
       "      <td>1014.000000</td>\n",
       "      <td>1014.000000</td>\n",
       "      <td>1014.000000</td>\n",
       "      <td>1014.000000</td>\n",
       "      <td>1014.000000</td>\n",
       "    </tr>\n",
       "    <tr>\n",
       "      <th>mean</th>\n",
       "      <td>29.871795</td>\n",
       "      <td>113.198225</td>\n",
       "      <td>76.460552</td>\n",
       "      <td>8.725986</td>\n",
       "      <td>98.665089</td>\n",
       "      <td>74.301775</td>\n",
       "    </tr>\n",
       "    <tr>\n",
       "      <th>std</th>\n",
       "      <td>13.474386</td>\n",
       "      <td>18.403913</td>\n",
       "      <td>13.885796</td>\n",
       "      <td>3.293532</td>\n",
       "      <td>1.371384</td>\n",
       "      <td>8.088702</td>\n",
       "    </tr>\n",
       "    <tr>\n",
       "      <th>min</th>\n",
       "      <td>10.000000</td>\n",
       "      <td>70.000000</td>\n",
       "      <td>49.000000</td>\n",
       "      <td>6.000000</td>\n",
       "      <td>98.000000</td>\n",
       "      <td>7.000000</td>\n",
       "    </tr>\n",
       "    <tr>\n",
       "      <th>25%</th>\n",
       "      <td>19.000000</td>\n",
       "      <td>100.000000</td>\n",
       "      <td>65.000000</td>\n",
       "      <td>6.900000</td>\n",
       "      <td>98.000000</td>\n",
       "      <td>70.000000</td>\n",
       "    </tr>\n",
       "    <tr>\n",
       "      <th>50%</th>\n",
       "      <td>26.000000</td>\n",
       "      <td>120.000000</td>\n",
       "      <td>80.000000</td>\n",
       "      <td>7.500000</td>\n",
       "      <td>98.000000</td>\n",
       "      <td>76.000000</td>\n",
       "    </tr>\n",
       "    <tr>\n",
       "      <th>75%</th>\n",
       "      <td>39.000000</td>\n",
       "      <td>120.000000</td>\n",
       "      <td>90.000000</td>\n",
       "      <td>8.000000</td>\n",
       "      <td>98.000000</td>\n",
       "      <td>80.000000</td>\n",
       "    </tr>\n",
       "    <tr>\n",
       "      <th>max</th>\n",
       "      <td>70.000000</td>\n",
       "      <td>160.000000</td>\n",
       "      <td>100.000000</td>\n",
       "      <td>19.000000</td>\n",
       "      <td>103.000000</td>\n",
       "      <td>90.000000</td>\n",
       "    </tr>\n",
       "  </tbody>\n",
       "</table>\n",
       "</div>"
      ],
      "text/plain": [
       "               Age   SystolicBP  DiastolicBP           BS     BodyTemp  \\\n",
       "count  1014.000000  1014.000000  1014.000000  1014.000000  1014.000000   \n",
       "mean     29.871795   113.198225    76.460552     8.725986    98.665089   \n",
       "std      13.474386    18.403913    13.885796     3.293532     1.371384   \n",
       "min      10.000000    70.000000    49.000000     6.000000    98.000000   \n",
       "25%      19.000000   100.000000    65.000000     6.900000    98.000000   \n",
       "50%      26.000000   120.000000    80.000000     7.500000    98.000000   \n",
       "75%      39.000000   120.000000    90.000000     8.000000    98.000000   \n",
       "max      70.000000   160.000000   100.000000    19.000000   103.000000   \n",
       "\n",
       "         HeartRate  \n",
       "count  1014.000000  \n",
       "mean     74.301775  \n",
       "std       8.088702  \n",
       "min       7.000000  \n",
       "25%      70.000000  \n",
       "50%      76.000000  \n",
       "75%      80.000000  \n",
       "max      90.000000  "
      ]
     },
     "execution_count": 5,
     "metadata": {},
     "output_type": "execute_result"
    }
   ],
   "source": [
    "df.describe()"
   ]
  },
  {
   "cell_type": "code",
   "execution_count": 6,
   "id": "4e2de363",
   "metadata": {
    "execution": {
     "iopub.execute_input": "2024-11-27T01:23:47.212416Z",
     "iopub.status.busy": "2024-11-27T01:23:47.212017Z",
     "iopub.status.idle": "2024-11-27T01:23:47.535508Z",
     "shell.execute_reply": "2024-11-27T01:23:47.534203Z"
    },
    "papermill": {
     "duration": 0.333781,
     "end_time": "2024-11-27T01:23:47.538179",
     "exception": false,
     "start_time": "2024-11-27T01:23:47.204398",
     "status": "completed"
    },
    "tags": []
   },
   "outputs": [
    {
     "data": {
      "image/png": "[encoded data removed]",
      "text/plain": [
       "<Figure size 1200x800 with 1 Axes>"
      ]
     },
     "metadata": {},
     "output_type": "display_data"
    }
   ],
   "source": [
    "custom_palette = ['#DC5CB5', '#F490C5', '#9B8BFA', '#5CBEE3']  \n",
    "\n",
    "plt.figure(figsize=(12,8))\n",
    "sns.countplot(x='RiskLevel', data=df, palette=custom_palette)\n",
    "plt.title('Dsitribusi Kelas RiskLevel', fontsize=16, fontweight='bold')\n",
    "plt.xlabel('Kategori RiskLevel', fontsize=12)\n",
    "plt.ylabel('Jumlah Data', fontsize=12)\n",
    "plt.show()"
   ]
  },
  {
   "cell_type": "markdown",
   "id": "e9645b06",
   "metadata": {
    "papermill": {
     "duration": 0.006413,
     "end_time": "2024-11-27T01:23:47.551121",
     "exception": false,
     "start_time": "2024-11-27T01:23:47.544708",
     "status": "completed"
    },
    "tags": []
   },
   "source": [
    "# Featur Engineering\n",
    "### Langkah ini memastikan bahwa data memiliki unit yang konsisten, yang dapat membantu meningkatkan akurasi model:\n",
    "\n",
    "- Kolom BodyTemp yang awalnya dalam Fahrenheit dikonversi ke Celcius menggunakan rumus konversi suhu."
   ]
  },
  {
   "cell_type": "code",
   "execution_count": 7,
   "id": "ee6d0b66",
   "metadata": {
    "execution": {
     "iopub.execute_input": "2024-11-27T01:23:47.565228Z",
     "iopub.status.busy": "2024-11-27T01:23:47.564745Z",
     "iopub.status.idle": "2024-11-27T01:23:47.571389Z",
     "shell.execute_reply": "2024-11-27T01:23:47.570407Z"
    },
    "papermill": {
     "duration": 0.016298,
     "end_time": "2024-11-27T01:23:47.573474",
     "exception": false,
     "start_time": "2024-11-27T01:23:47.557176",
     "status": "completed"
    },
    "tags": []
   },
   "outputs": [],
   "source": [
    "df['BodyTemp'] = (df['BodyTemp'] - 32) * 5 / 9"
   ]
  },
  {
   "cell_type": "code",
   "execution_count": 8,
   "id": "2f576c76",
   "metadata": {
    "execution": {
     "iopub.execute_input": "2024-11-27T01:23:47.587656Z",
     "iopub.status.busy": "2024-11-27T01:23:47.587297Z",
     "iopub.status.idle": "2024-11-27T01:23:47.600412Z",
     "shell.execute_reply": "2024-11-27T01:23:47.599248Z"
    },
    "papermill": {
     "duration": 0.022979,
     "end_time": "2024-11-27T01:23:47.602737",
     "exception": false,
     "start_time": "2024-11-27T01:23:47.579758",
     "status": "completed"
    },
    "tags": []
   },
   "outputs": [
    {
     "data": {
      "text/html": [
       "<div>\n",
       "<style scoped>\n",
       "    .dataframe tbody tr th:only-of-type {\n",
       "        vertical-align: middle;\n",
       "    }\n",
       "\n",
       "    .dataframe tbody tr th {\n",
       "        vertical-align: top;\n",
       "    }\n",
       "\n",
       "    .dataframe thead th {\n",
       "        text-align: right;\n",
       "    }\n",
       "</style>\n",
       "<table border=\"1\" class=\"dataframe\">\n",
       "  <thead>\n",
       "    <tr style=\"text-align: right;\">\n",
       "      <th></th>\n",
       "      <th>Age</th>\n",
       "      <th>SystolicBP</th>\n",
       "      <th>DiastolicBP</th>\n",
       "      <th>BS</th>\n",
       "      <th>BodyTemp</th>\n",
       "      <th>HeartRate</th>\n",
       "      <th>RiskLevel</th>\n",
       "    </tr>\n",
       "  </thead>\n",
       "  <tbody>\n",
       "    <tr>\n",
       "      <th>0</th>\n",
       "      <td>25</td>\n",
       "      <td>130</td>\n",
       "      <td>80</td>\n",
       "      <td>15.0</td>\n",
       "      <td>36.666667</td>\n",
       "      <td>86</td>\n",
       "      <td>high risk</td>\n",
       "    </tr>\n",
       "    <tr>\n",
       "      <th>1</th>\n",
       "      <td>35</td>\n",
       "      <td>140</td>\n",
       "      <td>90</td>\n",
       "      <td>13.0</td>\n",
       "      <td>36.666667</td>\n",
       "      <td>70</td>\n",
       "      <td>high risk</td>\n",
       "    </tr>\n",
       "    <tr>\n",
       "      <th>2</th>\n",
       "      <td>29</td>\n",
       "      <td>90</td>\n",
       "      <td>70</td>\n",
       "      <td>8.0</td>\n",
       "      <td>37.777778</td>\n",
       "      <td>80</td>\n",
       "      <td>high risk</td>\n",
       "    </tr>\n",
       "    <tr>\n",
       "      <th>3</th>\n",
       "      <td>30</td>\n",
       "      <td>140</td>\n",
       "      <td>85</td>\n",
       "      <td>7.0</td>\n",
       "      <td>36.666667</td>\n",
       "      <td>70</td>\n",
       "      <td>high risk</td>\n",
       "    </tr>\n",
       "    <tr>\n",
       "      <th>4</th>\n",
       "      <td>35</td>\n",
       "      <td>120</td>\n",
       "      <td>60</td>\n",
       "      <td>6.1</td>\n",
       "      <td>36.666667</td>\n",
       "      <td>76</td>\n",
       "      <td>low risk</td>\n",
       "    </tr>\n",
       "  </tbody>\n",
       "</table>\n",
       "</div>"
      ],
      "text/plain": [
       "   Age  SystolicBP  DiastolicBP    BS   BodyTemp  HeartRate  RiskLevel\n",
       "0   25         130           80  15.0  36.666667         86  high risk\n",
       "1   35         140           90  13.0  36.666667         70  high risk\n",
       "2   29          90           70   8.0  37.777778         80  high risk\n",
       "3   30         140           85   7.0  36.666667         70  high risk\n",
       "4   35         120           60   6.1  36.666667         76   low risk"
      ]
     },
     "execution_count": 8,
     "metadata": {},
     "output_type": "execute_result"
    }
   ],
   "source": [
    "df.head()"
   ]
  },
  {
   "cell_type": "markdown",
   "id": "3792cd91",
   "metadata": {
    "papermill": {
     "duration": 0.006261,
     "end_time": "2024-11-27T01:23:47.615464",
     "exception": false,
     "start_time": "2024-11-27T01:23:47.609203",
     "status": "completed"
    },
    "tags": []
   },
   "source": [
    "# Data Preprocessing\n",
    "\n",
    "### Data dibersihkan dan dinormalisasi untuk memastikan siap digunakan dalam model:\n",
    "\n",
    "- Kolom target RiskLevel yang berbentuk kategori diubah menjadi nilai numerik menggunakan teknik map().\n",
    "- Fitur numerik pada dataset dinormalisasi menggunakan StandardScaler untuk memastikan data memiliki skala yang seragam."
   ]
  },
  {
   "cell_type": "code",
   "execution_count": 9,
   "id": "2b70691f",
   "metadata": {
    "execution": {
     "iopub.execute_input": "2024-11-27T01:23:47.630279Z",
     "iopub.status.busy": "2024-11-27T01:23:47.629840Z",
     "iopub.status.idle": "2024-11-27T01:23:47.648318Z",
     "shell.execute_reply": "2024-11-27T01:23:47.647144Z"
    },
    "papermill": {
     "duration": 0.028443,
     "end_time": "2024-11-27T01:23:47.650532",
     "exception": false,
     "start_time": "2024-11-27T01:23:47.622089",
     "status": "completed"
    },
    "tags": []
   },
   "outputs": [
    {
     "data": {
      "text/html": [
       "<div>\n",
       "<style scoped>\n",
       "    .dataframe tbody tr th:only-of-type {\n",
       "        vertical-align: middle;\n",
       "    }\n",
       "\n",
       "    .dataframe tbody tr th {\n",
       "        vertical-align: top;\n",
       "    }\n",
       "\n",
       "    .dataframe thead th {\n",
       "        text-align: right;\n",
       "    }\n",
       "</style>\n",
       "<table border=\"1\" class=\"dataframe\">\n",
       "  <thead>\n",
       "    <tr style=\"text-align: right;\">\n",
       "      <th></th>\n",
       "      <th>Age</th>\n",
       "      <th>SystolicBP</th>\n",
       "      <th>DiastolicBP</th>\n",
       "      <th>BS</th>\n",
       "      <th>BodyTemp</th>\n",
       "      <th>HeartRate</th>\n",
       "      <th>RiskLevel</th>\n",
       "    </tr>\n",
       "  </thead>\n",
       "  <tbody>\n",
       "    <tr>\n",
       "      <th>0</th>\n",
       "      <td>25</td>\n",
       "      <td>130</td>\n",
       "      <td>80</td>\n",
       "      <td>15.0</td>\n",
       "      <td>36.666667</td>\n",
       "      <td>86</td>\n",
       "      <td>2.0</td>\n",
       "    </tr>\n",
       "    <tr>\n",
       "      <th>1</th>\n",
       "      <td>35</td>\n",
       "      <td>140</td>\n",
       "      <td>90</td>\n",
       "      <td>13.0</td>\n",
       "      <td>36.666667</td>\n",
       "      <td>70</td>\n",
       "      <td>2.0</td>\n",
       "    </tr>\n",
       "    <tr>\n",
       "      <th>2</th>\n",
       "      <td>29</td>\n",
       "      <td>90</td>\n",
       "      <td>70</td>\n",
       "      <td>8.0</td>\n",
       "      <td>37.777778</td>\n",
       "      <td>80</td>\n",
       "      <td>2.0</td>\n",
       "    </tr>\n",
       "    <tr>\n",
       "      <th>3</th>\n",
       "      <td>30</td>\n",
       "      <td>140</td>\n",
       "      <td>85</td>\n",
       "      <td>7.0</td>\n",
       "      <td>36.666667</td>\n",
       "      <td>70</td>\n",
       "      <td>2.0</td>\n",
       "    </tr>\n",
       "    <tr>\n",
       "      <th>4</th>\n",
       "      <td>35</td>\n",
       "      <td>120</td>\n",
       "      <td>60</td>\n",
       "      <td>6.1</td>\n",
       "      <td>36.666667</td>\n",
       "      <td>76</td>\n",
       "      <td>0.0</td>\n",
       "    </tr>\n",
       "    <tr>\n",
       "      <th>...</th>\n",
       "      <td>...</td>\n",
       "      <td>...</td>\n",
       "      <td>...</td>\n",
       "      <td>...</td>\n",
       "      <td>...</td>\n",
       "      <td>...</td>\n",
       "      <td>...</td>\n",
       "    </tr>\n",
       "    <tr>\n",
       "      <th>1009</th>\n",
       "      <td>22</td>\n",
       "      <td>120</td>\n",
       "      <td>60</td>\n",
       "      <td>15.0</td>\n",
       "      <td>36.666667</td>\n",
       "      <td>80</td>\n",
       "      <td>2.0</td>\n",
       "    </tr>\n",
       "    <tr>\n",
       "      <th>1010</th>\n",
       "      <td>55</td>\n",
       "      <td>120</td>\n",
       "      <td>90</td>\n",
       "      <td>18.0</td>\n",
       "      <td>36.666667</td>\n",
       "      <td>60</td>\n",
       "      <td>2.0</td>\n",
       "    </tr>\n",
       "    <tr>\n",
       "      <th>1011</th>\n",
       "      <td>35</td>\n",
       "      <td>85</td>\n",
       "      <td>60</td>\n",
       "      <td>19.0</td>\n",
       "      <td>36.666667</td>\n",
       "      <td>86</td>\n",
       "      <td>2.0</td>\n",
       "    </tr>\n",
       "    <tr>\n",
       "      <th>1012</th>\n",
       "      <td>43</td>\n",
       "      <td>120</td>\n",
       "      <td>90</td>\n",
       "      <td>18.0</td>\n",
       "      <td>36.666667</td>\n",
       "      <td>70</td>\n",
       "      <td>2.0</td>\n",
       "    </tr>\n",
       "    <tr>\n",
       "      <th>1013</th>\n",
       "      <td>32</td>\n",
       "      <td>120</td>\n",
       "      <td>65</td>\n",
       "      <td>6.0</td>\n",
       "      <td>38.333333</td>\n",
       "      <td>76</td>\n",
       "      <td>1.0</td>\n",
       "    </tr>\n",
       "  </tbody>\n",
       "</table>\n",
       "<p>1014 rows × 7 columns</p>\n",
       "</div>"
      ],
      "text/plain": [
       "      Age  SystolicBP  DiastolicBP    BS   BodyTemp  HeartRate  RiskLevel\n",
       "0      25         130           80  15.0  36.666667         86        2.0\n",
       "1      35         140           90  13.0  36.666667         70        2.0\n",
       "2      29          90           70   8.0  37.777778         80        2.0\n",
       "3      30         140           85   7.0  36.666667         70        2.0\n",
       "4      35         120           60   6.1  36.666667         76        0.0\n",
       "...   ...         ...          ...   ...        ...        ...        ...\n",
       "1009   22         120           60  15.0  36.666667         80        2.0\n",
       "1010   55         120           90  18.0  36.666667         60        2.0\n",
       "1011   35          85           60  19.0  36.666667         86        2.0\n",
       "1012   43         120           90  18.0  36.666667         70        2.0\n",
       "1013   32         120           65   6.0  38.333333         76        1.0\n",
       "\n",
       "[1014 rows x 7 columns]"
      ]
     },
     "execution_count": 9,
     "metadata": {},
     "output_type": "execute_result"
    }
   ],
   "source": [
    "RiskLevel = {'low risk':0, \n",
    "        'mid risk':1, \n",
    "        'high risk':2}\n",
    "\n",
    "# apply using map\n",
    "df['RiskLevel'] = df['RiskLevel'].map(RiskLevel).astype(float)\n",
    "df"
   ]
  },
  {
   "cell_type": "code",
   "execution_count": 10,
   "id": "82999930",
   "metadata": {
    "execution": {
     "iopub.execute_input": "2024-11-27T01:23:47.666135Z",
     "iopub.status.busy": "2024-11-27T01:23:47.665730Z",
     "iopub.status.idle": "2024-11-27T01:23:47.672313Z",
     "shell.execute_reply": "2024-11-27T01:23:47.671082Z"
    },
    "papermill": {
     "duration": 0.017078,
     "end_time": "2024-11-27T01:23:47.674442",
     "exception": false,
     "start_time": "2024-11-27T01:23:47.657364",
     "status": "completed"
    },
    "tags": []
   },
   "outputs": [],
   "source": [
    "X = df.drop('RiskLevel',axis=1)\n",
    "y = df['RiskLevel']"
   ]
  },
  {
   "cell_type": "markdown",
   "id": "0b00ed98",
   "metadata": {
    "papermill": {
     "duration": 0.006387,
     "end_time": "2024-11-27T01:23:47.687617",
     "exception": false,
     "start_time": "2024-11-27T01:23:47.681230",
     "status": "completed"
    },
    "tags": []
   },
   "source": [
    "# Train-Test Split\n",
    "\n",
    "### Dataset dibagi menjadi tiga bagian:\n",
    "\n",
    "1. Data Latih: Digunakan untuk melatih model.\n",
    "2. Data Validasi: Digunakan untuk memantau kinerja model selama pelatihan.\n",
    "3. Data Uji: Digunakan untuk mengukur performa akhir model.\n",
    "\n",
    "Rasio pembagian yang digunakan adalah:\n",
    "\n",
    "- 70:30 untuk data latih dan data uji.\n",
    "- 75:25 untuk data latih dan data validasi dari data sementara (data latih dan uji).\n",
    "\n",
    "Selain itu, rata-rata (mean) dan standar deviasi (std) dari fitur yang telah dinormalisasi ditampilkan untuk dokumentasi."
   ]
  },
  {
   "cell_type": "code",
   "execution_count": 11,
   "id": "a58e6281",
   "metadata": {
    "execution": {
     "iopub.execute_input": "2024-11-27T01:23:47.702902Z",
     "iopub.status.busy": "2024-11-27T01:23:47.702507Z",
     "iopub.status.idle": "2024-11-27T01:23:47.728252Z",
     "shell.execute_reply": "2024-11-27T01:23:47.727082Z"
    },
    "papermill": {
     "duration": 0.036769,
     "end_time": "2024-11-27T01:23:47.731008",
     "exception": false,
     "start_time": "2024-11-27T01:23:47.694239",
     "status": "completed"
    },
    "tags": []
   },
   "outputs": [
    {
     "data": {
      "text/plain": [
       "(array([[ 1.79155565,  1.45702716,  1.6960543 ,  1.90589019, -0.4852155 ,\n",
       "         -1.0268485 ],\n",
       "        [ 1.49454961,  1.45702716,  0.97553854,  1.90589019, -0.4852155 ,\n",
       "          1.94171708],\n",
       "        [-0.88149869,  0.36976548,  0.25502279, -0.25091417,  2.43298447,\n",
       "          0.21005383],\n",
       "        ...,\n",
       "        [-0.9557502 , -1.26112705, -0.969854  , -0.55468943,  1.70343448,\n",
       "         -0.53208757],\n",
       "        [ 2.60832225,  0.91339632,  0.25502279,  1.90589019, -0.4852155 ,\n",
       "          1.44695615],\n",
       "        [ 1.34604659,  1.45702716,  0.97553854,  1.90589019, -0.4852155 ,\n",
       "          1.94171708]]),\n",
       " array([[-0.51024114,  0.36976548,  0.97553854, -0.37242428, -0.4852155 ,\n",
       "         -1.76898989],\n",
       "        [-0.65874416, -2.07657332, -1.90652448, -0.2812917 , -0.4852155 ,\n",
       "         -1.76898989],\n",
       "        [ 0.00951942,  0.36976548,  0.25502279,  0.08323862,  1.70343448,\n",
       "          0.21005383],\n",
       "        ...,\n",
       "        [-1.10425321, -2.02221024, -1.97857606, -0.58506696, -0.4852155 ,\n",
       "          0.33374406],\n",
       "        [-0.51024114,  1.45702716,  0.25502279, -0.52127416, -0.4852155 ,\n",
       "         -0.53208757],\n",
       "        [ 0.38077697,  0.36976548, -1.18600873, -0.79770964, -0.4852155 ,\n",
       "          0.21005383]]),\n",
       " array([[-0.06473208, -1.26112705, -0.46549297,  0.69078914,  0.97388449,\n",
       "          0.70481475],\n",
       "        [-0.9557502 , -0.17386537, -0.10523509,  1.29833966,  1.70343448,\n",
       "          0.21005383],\n",
       "        [ 0.08377093,  0.36976548, -1.18600873, -0.79770964, -0.4852155 ,\n",
       "          0.21005383],\n",
       "        [-0.58449265, -0.71749621, -0.82575085, -0.37242428, -0.4852155 ,\n",
       "         -0.53208757],\n",
       "        [ 0.15802244,  0.36976548,  0.97553854, -0.58506696, -0.4852155 ,\n",
       "         -0.53208757],\n",
       "        [-1.32700774, -1.26112705, -1.18600873, -0.37242428,  2.43298447,\n",
       "         -1.0268485 ],\n",
       "        [ 0.75203452,  0.36976548,  0.97553854,  0.9945644 , -0.4852155 ,\n",
       "          0.70481475],\n",
       "        [ 2.2370647 , -1.26112705, -0.82575085, -0.58506696, -0.4852155 ,\n",
       "          0.33374406],\n",
       "        [ 1.86580715,  0.36976548,  0.97553854, -0.55468943, -0.4852155 ,\n",
       "          0.21005383],\n",
       "        [-0.65874416,  0.36976548,  0.25502279, -0.55468943, -0.4852155 ,\n",
       "          0.21005383],\n",
       "        [ 0.00951942,  0.36976548,  0.25502279, -0.37242428,  1.70343448,\n",
       "          0.21005383],\n",
       "        [ 0.00951942,  0.36976548,  0.25502279,  0.08323862,  1.70343448,\n",
       "          0.21005383],\n",
       "        [-0.28748661, -1.53294248, -1.18600873, -0.82808717,  1.70343448,\n",
       "          1.44695615],\n",
       "        [-0.06473208,  0.91339632, -0.46549297, -0.79770964, -0.4852155 ,\n",
       "          0.45743429],\n",
       "        [-1.32700774,  0.36976548,  1.33579642, -0.55468943, -0.4852155 ,\n",
       "         -1.76898989],\n",
       "        [-0.36173812,  0.36976548,  0.97553854,  1.90589019, -0.4852155 ,\n",
       "          0.70481475],\n",
       "        [ 0.75203452,  0.36976548,  1.33579642,  0.69078914, -0.4852155 ,\n",
       "          0.70481475],\n",
       "        [ 0.00951942, -1.26112705, -0.82575085, -0.22053665, -0.4852155 ,\n",
       "          0.33374406],\n",
       "        [-1.32700774, -1.26112705, -1.18600873, -0.37242428,  2.43298447,\n",
       "         -1.76898989],\n",
       "        [-0.58449265,  0.36976548, -1.18600873,  1.90589019, -0.4852155 ,\n",
       "          0.70481475],\n",
       "        [-0.80724718,  0.36976548, -0.10523509, -0.55468943, -0.4852155 ,\n",
       "         -1.0268485 ],\n",
       "        [-0.9557502 , -1.26112705, -0.82575085, -0.79770964,  3.16253447,\n",
       "         -0.90315826],\n",
       "        [-0.2132351 ,  0.36976548,  0.97553854, -0.58506696,  2.43298447,\n",
       "         -0.77946803],\n",
       "        [ 0.08377093,  0.36976548, -1.18600873, -0.79770964, -0.4852155 ,\n",
       "          0.21005383],\n",
       "        [ 2.2370647 , -1.26112705, -0.82575085, -0.25091417, -0.4852155 ,\n",
       "          0.33374406],\n",
       "        [ 1.34604659,  0.36976548,  0.25502279,  0.69078914, -0.4852155 ,\n",
       "          1.69433661],\n",
       "        [-1.10425321, -2.02221024, -1.97857606, -0.37242428, -0.4852155 ,\n",
       "          0.33374406],\n",
       "        [-0.73299567, -0.17386537, -1.18600873, -0.52431191,  0.97388449,\n",
       "         -0.53208757],\n",
       "        [-0.9557502 , -1.53294248, -1.18600873,  0.08323862,  2.43298447,\n",
       "          1.44695615],\n",
       "        [-0.51024114,  0.91339632, -0.46549297, -0.52127416, -0.4852155 ,\n",
       "          0.45743429],\n",
       "        [ 0.75203452,  0.36976548,  1.33579642,  0.69078914, -0.4852155 ,\n",
       "          0.70481475],\n",
       "        [ 1.34604659,  0.36976548,  0.25502279,  0.69078914, -0.4852155 ,\n",
       "          1.69433661],\n",
       "        [ 1.49454961,  1.45702716,  0.25502279, -0.61544449, -0.4852155 ,\n",
       "         -0.53208757],\n",
       "        [ 0.45502848,  1.45702716,  1.6960543 , -0.58506696,  2.43298447,\n",
       "          0.21005383],\n",
       "        [-0.36173812, -0.71749621,  0.97553854, -0.55468943, -0.4852155 ,\n",
       "          0.21005383],\n",
       "        [-1.32700774, -1.26112705, -1.18600873, -0.37242428,  2.43298447,\n",
       "         -1.0268485 ],\n",
       "        [-1.0300017 , -2.34838874, -1.90652448, -0.37242428,  0.97388449,\n",
       "         -0.53208757],\n",
       "        [-0.36173812,  0.36976548,  0.97553854, -0.61544449,  1.70343448,\n",
       "          0.70481475],\n",
       "        [-1.0300017 , -2.34838874, -1.90652448, -0.37242428,  0.97388449,\n",
       "         -0.53208757],\n",
       "        [-0.65874416, -0.71749621, -1.90652448, -0.58506696, -0.4852155 ,\n",
       "         -1.76898989],\n",
       "        [-1.0300017 , -0.71749621, -0.46549297, -0.37242428, -0.4852155 ,\n",
       "          0.70481475],\n",
       "        [ 0.90053753,  0.91339632,  0.25502279,  2.81721597, -0.4852155 ,\n",
       "         -0.53208757],\n",
       "        [ 1.86580715, -0.71749621, -0.82575085, -0.37242428, -0.4852155 ,\n",
       "         -1.0268485 ],\n",
       "        [-0.51024114, -1.26112705, -1.18600873, -0.25091417, -0.4852155 ,\n",
       "          0.21005383],\n",
       "        [-0.9557502 , -1.53294248, -1.18600873,  0.08323862,  2.43298447,\n",
       "          1.44695615],\n",
       "        [ 0.08377093,  0.36976548, -1.18600873, -0.79770964, -0.4852155 ,\n",
       "          0.21005383],\n",
       "        [ 0.15802244,  1.45702716,  1.6960543 , -0.25091417, -0.4852155 ,\n",
       "          0.45743429],\n",
       "        [ 0.75203452,  2.54428885,  1.6960543 ,  3.12099124, -0.4852155 ,\n",
       "          0.33374406],\n",
       "        [-0.43598963,  0.36976548,  0.25502279, -0.37242428, -0.4852155 ,\n",
       "         -1.0268485 ],\n",
       "        [-0.51024114, -0.71749621,  0.61528066, -0.37242428, -0.4852155 ,\n",
       "         -1.0268485 ],\n",
       "        [-0.88149869, -0.71749621, -0.46549297, -0.55468943, -0.4852155 ,\n",
       "          0.21005383],\n",
       "        [-1.10425321, -1.26112705, -1.97857606, -0.82808717,  0.24433449,\n",
       "          0.33374406],\n",
       "        [ 2.2370647 , -1.26112705, -0.82575085, -0.52431191, -0.4852155 ,\n",
       "          0.33374406],\n",
       "        [ 0.38077697, -0.71749621, -0.46549297, -0.79770964, -0.4852155 ,\n",
       "         -1.0268485 ],\n",
       "        [-1.47551076, -1.53294248, -0.82575085, -0.55468943, -0.4852155 ,\n",
       "         -0.53208757],\n",
       "        [-0.06473208, -1.26112705, -0.46549297, -0.22053665,  0.97388449,\n",
       "          0.70481475],\n",
       "        [-0.80724718,  0.36976548, -0.10523509, -0.46355686, -0.4852155 ,\n",
       "         -1.0268485 ],\n",
       "        [-0.80724718,  0.36976548, -0.10523509, -0.55468943, -0.4852155 ,\n",
       "         -1.0268485 ],\n",
       "        [ 1.49454961,  1.45702716,  0.25502279, -0.61544449, -0.4852155 ,\n",
       "         -0.53208757],\n",
       "        [-0.13898359, -1.26112705, -1.18600873, -0.37242428, -0.4852155 ,\n",
       "          0.95219522],\n",
       "        [-0.73299567, -0.71749621,  0.97553854, -0.37242428, -0.4852155 ,\n",
       "          1.69433661],\n",
       "        [ 0.38077697,  0.36976548, -1.18600873, -0.79770964, -0.4852155 ,\n",
       "          0.21005383],\n",
       "        [ 0.38077697,  0.36976548,  0.25502279, -0.55468943, -0.4852155 ,\n",
       "          0.45743429],\n",
       "        [ 1.86580715,  1.45702716,  1.33579642,  3.12099124, -0.4852155 ,\n",
       "          0.33374406],\n",
       "        [ 1.34604659,  0.36976548,  0.25502279,  0.69078914, -0.4852155 ,\n",
       "          1.69433661],\n",
       "        [-1.32700774, -0.98931163, -1.18600873, -0.55468943, -0.4852155 ,\n",
       "          0.33374406],\n",
       "        [-0.58449265,  0.36976548,  0.97553854, -0.2812917 , -0.4852155 ,\n",
       "          0.95219522],\n",
       "        [-0.36173812,  1.45702716,  1.6960543 , -0.58506696, -0.4852155 ,\n",
       "          0.70481475],\n",
       "        [ 0.67778301, -0.17386537, -0.46549297, -0.25091417, -0.4852155 ,\n",
       "          0.70481475],\n",
       "        [-1.10425321, -2.02221024, -1.97857606, -0.25091417, -0.4852155 ,\n",
       "          0.33374406],\n",
       "        [-0.9557502 , -1.26112705, -0.82575085, -0.37242428,  3.16253447,\n",
       "         -0.90315826],\n",
       "        [ 0.38077697,  0.36976548,  0.25502279, -0.55468943, -0.4852155 ,\n",
       "          0.70481475],\n",
       "        [ 1.86580715,  0.36976548,  0.97553854,  0.9945644 , -0.4852155 ,\n",
       "         -0.53208757],\n",
       "        [-0.36173812,  1.45702716,  1.6960543 , -0.58506696, -0.4852155 ,\n",
       "          0.70481475],\n",
       "        [ 1.34604659,  1.45702716,  0.97553854,  1.90589019, -0.4852155 ,\n",
       "          1.94171708],\n",
       "        [ 2.2370647 ,  0.36976548,  0.61528066,  1.90589019, -0.4852155 ,\n",
       "         -1.76898989],\n",
       "        [ 0.23227395,  0.09795005, -0.82575085, -0.52431191, -0.4852155 ,\n",
       "         -0.53208757]]),\n",
       " 177    2.0\n",
       " 467    2.0\n",
       " 507    1.0\n",
       " 486    2.0\n",
       " 328    0.0\n",
       "       ... \n",
       " 106    2.0\n",
       " 270    0.0\n",
       " 860    1.0\n",
       " 435    2.0\n",
       " 102    2.0\n",
       " Name: RiskLevel, Length: 709, dtype: float64,\n",
       " 947    0.0\n",
       " 370    0.0\n",
       " 847    1.0\n",
       " 777    1.0\n",
       " 231    2.0\n",
       "       ... \n",
       " 265    0.0\n",
       " 657    2.0\n",
       " 886    0.0\n",
       " 5      2.0\n",
       " 883    0.0\n",
       " Name: RiskLevel, Length: 228, dtype: float64,\n",
       " 638    2.0\n",
       " 992    2.0\n",
       " 617    0.0\n",
       " 585    1.0\n",
       " 884    0.0\n",
       "       ... \n",
       " 77     1.0\n",
       " 468    2.0\n",
       " 451    2.0\n",
       " 277    2.0\n",
       " 350    1.0\n",
       " Name: RiskLevel, Length: 77, dtype: float64)"
      ]
     },
     "execution_count": 11,
     "metadata": {},
     "output_type": "execute_result"
    }
   ],
   "source": [
    "scaler = StandardScaler()\n",
    "X_scaled = scaler.fit_transform(X)\n",
    "\n",
    "X_train, X_temp, y_train, y_temp = train_test_split(X_scaled, y, test_size=0.3, random_state=42)\n",
    "X_val, X_test, y_val, y_test = train_test_split(X_temp, y_temp, test_size=0.25, random_state=42)\n",
    "\n",
    "X_train, X_val, X_test, y_train,y_val,y_test\n"
   ]
  },
  {
   "cell_type": "code",
   "execution_count": 12,
   "id": "5e4ab965",
   "metadata": {
    "execution": {
     "iopub.execute_input": "2024-11-27T01:23:47.748237Z",
     "iopub.status.busy": "2024-11-27T01:23:47.747845Z",
     "iopub.status.idle": "2024-11-27T01:23:47.754520Z",
     "shell.execute_reply": "2024-11-27T01:23:47.753323Z"
    },
    "papermill": {
     "duration": 0.017755,
     "end_time": "2024-11-27T01:23:47.756666",
     "exception": false,
     "start_time": "2024-11-27T01:23:47.738911",
     "status": "completed"
    },
    "tags": []
   },
   "outputs": [
    {
     "name": "stdout",
     "output_type": "stream",
     "text": [
      "Mean: [ 29.87179487 113.19822485  76.46055227   8.72598619  37.03616042\n",
      "  74.30177515]\n",
      "Std (scale): [13.46773972 18.39483561 13.878947    3.29190729  0.76150444  8.08471278]\n"
     ]
    }
   ],
   "source": [
    "# Mendapatkan mean dan scale\n",
    "mean = scaler.mean_\n",
    "std = scaler.scale_\n",
    "\n",
    "print(\"Mean:\", mean)\n",
    "print(\"Std (scale):\", std)"
   ]
  },
  {
   "cell_type": "code",
   "execution_count": 13,
   "id": "6b9f00f8",
   "metadata": {
    "execution": {
     "iopub.execute_input": "2024-11-27T01:23:47.773349Z",
     "iopub.status.busy": "2024-11-27T01:23:47.772880Z",
     "iopub.status.idle": "2024-11-27T01:23:47.780508Z",
     "shell.execute_reply": "2024-11-27T01:23:47.779452Z"
    },
    "papermill": {
     "duration": 0.018911,
     "end_time": "2024-11-27T01:23:47.782764",
     "exception": false,
     "start_time": "2024-11-27T01:23:47.763853",
     "status": "completed"
    },
    "tags": []
   },
   "outputs": [
    {
     "data": {
      "text/plain": [
       "((709, 6), (228, 6), (77, 6), (709,), (228,), (77,))"
      ]
     },
     "execution_count": 13,
     "metadata": {},
     "output_type": "execute_result"
    }
   ],
   "source": [
    "X_train.shape, X_val.shape, X_test.shape, y_train.shape, y_val.shape, y_test.shape"
   ]
  },
  {
   "cell_type": "markdown",
   "id": "0dbf5d24",
   "metadata": {
    "papermill": {
     "duration": 0.00673,
     "end_time": "2024-11-27T01:23:47.796819",
     "exception": false,
     "start_time": "2024-11-27T01:23:47.790089",
     "status": "completed"
    },
    "tags": []
   },
   "source": [
    "# Model Training\n",
    "\n",
    "## Model jaringan saraf dibangun menggunakan Keras dengan struktur berikut:\n",
    "\n",
    "- Layer Input: Lapisan awal yang menerima input fitur.\n",
    "- Hidden Layers: Terdiri dari beberapa lapisan dengan fungsi aktivasi ReLU dan lapisan Dropout untuk mencegah overfitting.\n",
    "- Layer Output: Lapisan terakhir dengan fungsi aktivasi softmax untuk klasifikasi tiga kelas (`Low Risk`,` Mid Risk`, `High Risk`).\n",
    "\n",
    "Model dikompilasi menggunakan optimasi Adam dan fungsi loss `sparse_categorical_crossentropy`. Model dilatih selama 100 epoch dengan data validasi digunakan untuk memantau performa."
   ]
  },
  {
   "cell_type": "code",
   "execution_count": 14,
   "id": "032302f3",
   "metadata": {
    "execution": {
     "iopub.execute_input": "2024-11-27T01:23:47.813406Z",
     "iopub.status.busy": "2024-11-27T01:23:47.812974Z",
     "iopub.status.idle": "2024-11-27T01:24:01.612791Z",
     "shell.execute_reply": "2024-11-27T01:24:01.611820Z"
    },
    "papermill": {
     "duration": 13.810943,
     "end_time": "2024-11-27T01:24:01.615358",
     "exception": false,
     "start_time": "2024-11-27T01:23:47.804415",
     "status": "completed"
    },
    "scrolled": true,
    "tags": []
   },
   "outputs": [
    {
     "name": "stdout",
     "output_type": "stream",
     "text": [
      "Epoch 1/100\n"
     ]
    },
    {
     "name": "stderr",
     "output_type": "stream",
     "text": [
      "/opt/conda/lib/python3.10/site-packages/keras/src/layers/core/dense.py:87: UserWarning: Do not pass an `input_shape`/`input_dim` argument to a layer. When using Sequential models, prefer using an `Input(shape)` object as the first layer in the model instead.\n",
      "  super().__init__(activity_regularizer=activity_regularizer, **kwargs)\n"
     ]
    },
    {
     "name": "stdout",
     "output_type": "stream",
     "text": [
      "\u001b[1m23/23\u001b[0m \u001b[32m━━━━━━━━━━━━━━━━━━━━\u001b[0m\u001b[37m\u001b[0m \u001b[1m2s\u001b[0m 13ms/step - accuracy: 0.3217 - loss: 1.1552 - val_accuracy: 0.5570 - val_loss: 1.0706\n",
      "Epoch 2/100\n",
      "\u001b[1m23/23\u001b[0m \u001b[32m━━━━━━━━━━━━━━━━━━━━\u001b[0m\u001b[37m\u001b[0m \u001b[1m0s\u001b[0m 4ms/step - accuracy: 0.4325 - loss: 1.0698 - val_accuracy: 0.5351 - val_loss: 1.0273\n",
      "Epoch 3/100\n",
      "\u001b[1m23/23\u001b[0m \u001b[32m━━━━━━━━━━━━━━━━━━━━\u001b[0m\u001b[37m\u001b[0m \u001b[1m0s\u001b[0m 4ms/step - accuracy: 0.4854 - loss: 1.0454 - val_accuracy: 0.5702 - val_loss: 0.9731\n",
      "Epoch 4/100\n",
      "\u001b[1m23/23\u001b[0m \u001b[32m━━━━━━━━━━━━━━━━━━━━\u001b[0m\u001b[37m\u001b[0m \u001b[1m0s\u001b[0m 5ms/step - accuracy: 0.5686 - loss: 0.9530 - val_accuracy: 0.5526 - val_loss: 0.9102\n",
      "Epoch 5/100\n",
      "\u001b[1m23/23\u001b[0m \u001b[32m━━━━━━━━━━━━━━━━━━━━\u001b[0m\u001b[37m\u001b[0m \u001b[1m0s\u001b[0m 4ms/step - accuracy: 0.5599 - loss: 0.9281 - val_accuracy: 0.5702 - val_loss: 0.8593\n",
      "Epoch 6/100\n",
      "\u001b[1m23/23\u001b[0m \u001b[32m━━━━━━━━━━━━━━━━━━━━\u001b[0m\u001b[37m\u001b[0m \u001b[1m0s\u001b[0m 4ms/step - accuracy: 0.5777 - loss: 0.8661 - val_accuracy: 0.5789 - val_loss: 0.8193\n",
      "Epoch 7/100\n",
      "\u001b[1m23/23\u001b[0m \u001b[32m━━━━━━━━━━━━━━━━━━━━\u001b[0m\u001b[37m\u001b[0m \u001b[1m0s\u001b[0m 4ms/step - accuracy: 0.5723 - loss: 0.8778 - val_accuracy: 0.5833 - val_loss: 0.7903\n",
      "Epoch 8/100\n",
      "\u001b[1m23/23\u001b[0m \u001b[32m━━━━━━━━━━━━━━━━━━━━\u001b[0m\u001b[37m\u001b[0m \u001b[1m0s\u001b[0m 4ms/step - accuracy: 0.6037 - loss: 0.8209 - val_accuracy: 0.5965 - val_loss: 0.7709\n",
      "Epoch 9/100\n",
      "\u001b[1m23/23\u001b[0m \u001b[32m━━━━━━━━━━━━━━━━━━━━\u001b[0m\u001b[37m\u001b[0m \u001b[1m0s\u001b[0m 4ms/step - accuracy: 0.6207 - loss: 0.8013 - val_accuracy: 0.5965 - val_loss: 0.7591\n",
      "Epoch 10/100\n",
      "\u001b[1m23/23\u001b[0m \u001b[32m━━━━━━━━━━━━━━━━━━━━\u001b[0m\u001b[37m\u001b[0m \u001b[1m0s\u001b[0m 4ms/step - accuracy: 0.5906 - loss: 0.8149 - val_accuracy: 0.6053 - val_loss: 0.7502\n",
      "Epoch 11/100\n",
      "\u001b[1m23/23\u001b[0m \u001b[32m━━━━━━━━━━━━━━━━━━━━\u001b[0m\u001b[37m\u001b[0m \u001b[1m0s\u001b[0m 4ms/step - accuracy: 0.5824 - loss: 0.8297 - val_accuracy: 0.6140 - val_loss: 0.7377\n",
      "Epoch 12/100\n",
      "\u001b[1m23/23\u001b[0m \u001b[32m━━━━━━━━━━━━━━━━━━━━\u001b[0m\u001b[37m\u001b[0m \u001b[1m0s\u001b[0m 4ms/step - accuracy: 0.6010 - loss: 0.8262 - val_accuracy: 0.6184 - val_loss: 0.7320\n",
      "Epoch 13/100\n",
      "\u001b[1m23/23\u001b[0m \u001b[32m━━━━━━━━━━━━━━━━━━━━\u001b[0m\u001b[37m\u001b[0m \u001b[1m0s\u001b[0m 4ms/step - accuracy: 0.6276 - loss: 0.8258 - val_accuracy: 0.6272 - val_loss: 0.7295\n",
      "Epoch 14/100\n",
      "\u001b[1m23/23\u001b[0m \u001b[32m━━━━━━━━━━━━━━━━━━━━\u001b[0m\u001b[37m\u001b[0m \u001b[1m0s\u001b[0m 4ms/step - accuracy: 0.6359 - loss: 0.7867 - val_accuracy: 0.6447 - val_loss: 0.7204\n",
      "Epoch 15/100\n",
      "\u001b[1m23/23\u001b[0m \u001b[32m━━━━━━━━━━━━━━━━━━━━\u001b[0m\u001b[37m\u001b[0m \u001b[1m0s\u001b[0m 4ms/step - accuracy: 0.6111 - loss: 0.8087 - val_accuracy: 0.6579 - val_loss: 0.7175\n",
      "Epoch 16/100\n",
      "\u001b[1m23/23\u001b[0m \u001b[32m━━━━━━━━━━━━━━━━━━━━\u001b[0m\u001b[37m\u001b[0m \u001b[1m0s\u001b[0m 4ms/step - accuracy: 0.6425 - loss: 0.7610 - val_accuracy: 0.6491 - val_loss: 0.7146\n",
      "Epoch 17/100\n",
      "\u001b[1m23/23\u001b[0m \u001b[32m━━━━━━━━━━━━━━━━━━━━\u001b[0m\u001b[37m\u001b[0m \u001b[1m0s\u001b[0m 4ms/step - accuracy: 0.6540 - loss: 0.7780 - val_accuracy: 0.6272 - val_loss: 0.7168\n",
      "Epoch 18/100\n",
      "\u001b[1m23/23\u001b[0m \u001b[32m━━━━━━━━━━━━━━━━━━━━\u001b[0m\u001b[37m\u001b[0m \u001b[1m0s\u001b[0m 4ms/step - accuracy: 0.6109 - loss: 0.8167 - val_accuracy: 0.6360 - val_loss: 0.7139\n",
      "Epoch 19/100\n",
      "\u001b[1m23/23\u001b[0m \u001b[32m━━━━━━━━━━━━━━━━━━━━\u001b[0m\u001b[37m\u001b[0m \u001b[1m0s\u001b[0m 4ms/step - accuracy: 0.6637 - loss: 0.7339 - val_accuracy: 0.6711 - val_loss: 0.7064\n",
      "Epoch 20/100\n",
      "\u001b[1m23/23\u001b[0m \u001b[32m━━━━━━━━━━━━━━━━━━━━\u001b[0m\u001b[37m\u001b[0m \u001b[1m0s\u001b[0m 4ms/step - accuracy: 0.6106 - loss: 0.7946 - val_accuracy: 0.6667 - val_loss: 0.7090\n",
      "Epoch 21/100\n",
      "\u001b[1m23/23\u001b[0m \u001b[32m━━━━━━━━━━━━━━━━━━━━\u001b[0m\u001b[37m\u001b[0m \u001b[1m0s\u001b[0m 4ms/step - accuracy: 0.6413 - loss: 0.7511 - val_accuracy: 0.6447 - val_loss: 0.7086\n",
      "Epoch 22/100\n",
      "\u001b[1m23/23\u001b[0m \u001b[32m━━━━━━━━━━━━━━━━━━━━\u001b[0m\u001b[37m\u001b[0m \u001b[1m0s\u001b[0m 4ms/step - accuracy: 0.6484 - loss: 0.7513 - val_accuracy: 0.6491 - val_loss: 0.7063\n",
      "Epoch 23/100\n",
      "\u001b[1m23/23\u001b[0m \u001b[32m━━━━━━━━━━━━━━━━━━━━\u001b[0m\u001b[37m\u001b[0m \u001b[1m0s\u001b[0m 5ms/step - accuracy: 0.6459 - loss: 0.7669 - val_accuracy: 0.6711 - val_loss: 0.6979\n",
      "Epoch 24/100\n",
      "\u001b[1m23/23\u001b[0m \u001b[32m━━━━━━━━━━━━━━━━━━━━\u001b[0m\u001b[37m\u001b[0m \u001b[1m0s\u001b[0m 4ms/step - accuracy: 0.6919 - loss: 0.7189 - val_accuracy: 0.6711 - val_loss: 0.6994\n",
      "Epoch 25/100\n",
      "\u001b[1m23/23\u001b[0m \u001b[32m━━━━━━━━━━━━━━━━━━━━\u001b[0m\u001b[37m\u001b[0m \u001b[1m0s\u001b[0m 4ms/step - accuracy: 0.6839 - loss: 0.7101 - val_accuracy: 0.6623 - val_loss: 0.6949\n",
      "Epoch 26/100\n",
      "\u001b[1m23/23\u001b[0m \u001b[32m━━━━━━━━━━━━━━━━━━━━\u001b[0m\u001b[37m\u001b[0m \u001b[1m0s\u001b[0m 4ms/step - accuracy: 0.6425 - loss: 0.7274 - val_accuracy: 0.6579 - val_loss: 0.6924\n",
      "Epoch 27/100\n",
      "\u001b[1m23/23\u001b[0m \u001b[32m━━━━━━━━━━━━━━━━━━━━\u001b[0m\u001b[37m\u001b[0m \u001b[1m0s\u001b[0m 4ms/step - accuracy: 0.6469 - loss: 0.7197 - val_accuracy: 0.6579 - val_loss: 0.6924\n",
      "Epoch 28/100\n",
      "\u001b[1m23/23\u001b[0m \u001b[32m━━━━━━━━━━━━━━━━━━━━\u001b[0m\u001b[37m\u001b[0m \u001b[1m0s\u001b[0m 4ms/step - accuracy: 0.6483 - loss: 0.7299 - val_accuracy: 0.6535 - val_loss: 0.6899\n",
      "Epoch 29/100\n",
      "\u001b[1m23/23\u001b[0m \u001b[32m━━━━━━━━━━━━━━━━━━━━\u001b[0m\u001b[37m\u001b[0m \u001b[1m0s\u001b[0m 4ms/step - accuracy: 0.6406 - loss: 0.7457 - val_accuracy: 0.6491 - val_loss: 0.6898\n",
      "Epoch 30/100\n",
      "\u001b[1m23/23\u001b[0m \u001b[32m━━━━━━━━━━━━━━━━━━━━\u001b[0m\u001b[37m\u001b[0m \u001b[1m0s\u001b[0m 4ms/step - accuracy: 0.6396 - loss: 0.7503 - val_accuracy: 0.6579 - val_loss: 0.6874\n",
      "Epoch 31/100\n",
      "\u001b[1m23/23\u001b[0m \u001b[32m━━━━━━━━━━━━━━━━━━━━\u001b[0m\u001b[37m\u001b[0m \u001b[1m0s\u001b[0m 4ms/step - accuracy: 0.6546 - loss: 0.7314 - val_accuracy: 0.6754 - val_loss: 0.6805\n",
      "Epoch 32/100\n",
      "\u001b[1m23/23\u001b[0m \u001b[32m━━━━━━━━━━━━━━━━━━━━\u001b[0m\u001b[37m\u001b[0m \u001b[1m0s\u001b[0m 4ms/step - accuracy: 0.6802 - loss: 0.7242 - val_accuracy: 0.6667 - val_loss: 0.6847\n",
      "Epoch 33/100\n",
      "\u001b[1m23/23\u001b[0m \u001b[32m━━━━━━━━━━━━━━━━━━━━\u001b[0m\u001b[37m\u001b[0m \u001b[1m0s\u001b[0m 4ms/step - accuracy: 0.6660 - loss: 0.7238 - val_accuracy: 0.6535 - val_loss: 0.6882\n",
      "Epoch 34/100\n",
      "\u001b[1m23/23\u001b[0m \u001b[32m━━━━━━━━━━━━━━━━━━━━\u001b[0m\u001b[37m\u001b[0m \u001b[1m0s\u001b[0m 4ms/step - accuracy: 0.6795 - loss: 0.6860 - val_accuracy: 0.6579 - val_loss: 0.6851\n",
      "Epoch 35/100\n",
      "\u001b[1m23/23\u001b[0m \u001b[32m━━━━━━━━━━━━━━━━━━━━\u001b[0m\u001b[37m\u001b[0m \u001b[1m0s\u001b[0m 4ms/step - accuracy: 0.6793 - loss: 0.7300 - val_accuracy: 0.6491 - val_loss: 0.6831\n",
      "Epoch 36/100\n",
      "\u001b[1m23/23\u001b[0m \u001b[32m━━━━━━━━━━━━━━━━━━━━\u001b[0m\u001b[37m\u001b[0m \u001b[1m0s\u001b[0m 4ms/step - accuracy: 0.6919 - loss: 0.6926 - val_accuracy: 0.6404 - val_loss: 0.6800\n",
      "Epoch 37/100\n",
      "\u001b[1m23/23\u001b[0m \u001b[32m━━━━━━━━━━━━━━━━━━━━\u001b[0m\u001b[37m\u001b[0m \u001b[1m0s\u001b[0m 4ms/step - accuracy: 0.6477 - loss: 0.7181 - val_accuracy: 0.6535 - val_loss: 0.6756\n",
      "Epoch 38/100\n",
      "\u001b[1m23/23\u001b[0m \u001b[32m━━━━━━━━━━━━━━━━━━━━\u001b[0m\u001b[37m\u001b[0m \u001b[1m0s\u001b[0m 4ms/step - accuracy: 0.6311 - loss: 0.7247 - val_accuracy: 0.6754 - val_loss: 0.6722\n",
      "Epoch 39/100\n",
      "\u001b[1m23/23\u001b[0m \u001b[32m━━━━━━━━━━━━━━━━━━━━\u001b[0m\u001b[37m\u001b[0m \u001b[1m0s\u001b[0m 4ms/step - accuracy: 0.7190 - loss: 0.6614 - val_accuracy: 0.6711 - val_loss: 0.6724\n",
      "Epoch 40/100\n",
      "\u001b[1m23/23\u001b[0m \u001b[32m━━━━━━━━━━━━━━━━━━━━\u001b[0m\u001b[37m\u001b[0m \u001b[1m0s\u001b[0m 4ms/step - accuracy: 0.6687 - loss: 0.6668 - val_accuracy: 0.6623 - val_loss: 0.6690\n",
      "Epoch 41/100\n",
      "\u001b[1m23/23\u001b[0m \u001b[32m━━━━━━━━━━━━━━━━━━━━\u001b[0m\u001b[37m\u001b[0m \u001b[1m0s\u001b[0m 4ms/step - accuracy: 0.6553 - loss: 0.7299 - val_accuracy: 0.6667 - val_loss: 0.6754\n",
      "Epoch 42/100\n",
      "\u001b[1m23/23\u001b[0m \u001b[32m━━━━━━━━━━━━━━━━━━━━\u001b[0m\u001b[37m\u001b[0m \u001b[1m0s\u001b[0m 4ms/step - accuracy: 0.6608 - loss: 0.6975 - val_accuracy: 0.6667 - val_loss: 0.6700\n",
      "Epoch 43/100\n",
      "\u001b[1m23/23\u001b[0m \u001b[32m━━━━━━━━━━━━━━━━━━━━\u001b[0m\u001b[37m\u001b[0m \u001b[1m0s\u001b[0m 5ms/step - accuracy: 0.6676 - loss: 0.7055 - val_accuracy: 0.6667 - val_loss: 0.6688\n",
      "Epoch 44/100\n",
      "\u001b[1m23/23\u001b[0m \u001b[32m━━━━━━━━━━━━━━━━━━━━\u001b[0m\u001b[37m\u001b[0m \u001b[1m0s\u001b[0m 4ms/step - accuracy: 0.6510 - loss: 0.6893 - val_accuracy: 0.6447 - val_loss: 0.6771\n",
      "Epoch 45/100\n",
      "\u001b[1m23/23\u001b[0m \u001b[32m━━━━━━━━━━━━━━━━━━━━\u001b[0m\u001b[37m\u001b[0m \u001b[1m0s\u001b[0m 4ms/step - accuracy: 0.6493 - loss: 0.7118 - val_accuracy: 0.6667 - val_loss: 0.6704\n",
      "Epoch 46/100\n",
      "\u001b[1m23/23\u001b[0m \u001b[32m━━━━━━━━━━━━━━━━━━━━\u001b[0m\u001b[37m\u001b[0m \u001b[1m0s\u001b[0m 4ms/step - accuracy: 0.6834 - loss: 0.7104 - val_accuracy: 0.6667 - val_loss: 0.6690\n",
      "Epoch 47/100\n",
      "\u001b[1m23/23\u001b[0m \u001b[32m━━━━━━━━━━━━━━━━━━━━\u001b[0m\u001b[37m\u001b[0m \u001b[1m0s\u001b[0m 3ms/step - accuracy: 0.6614 - loss: 0.6958 - val_accuracy: 0.6754 - val_loss: 0.6622\n",
      "Epoch 48/100\n",
      "\u001b[1m23/23\u001b[0m \u001b[32m━━━━━━━━━━━━━━━━━━━━\u001b[0m\u001b[37m\u001b[0m \u001b[1m0s\u001b[0m 4ms/step - accuracy: 0.6741 - loss: 0.6868 - val_accuracy: 0.6754 - val_loss: 0.6680\n",
      "Epoch 49/100\n",
      "\u001b[1m23/23\u001b[0m \u001b[32m━━━━━━━━━━━━━━━━━━━━\u001b[0m\u001b[37m\u001b[0m \u001b[1m0s\u001b[0m 4ms/step - accuracy: 0.6625 - loss: 0.7097 - val_accuracy: 0.6754 - val_loss: 0.6657\n",
      "Epoch 50/100\n",
      "\u001b[1m23/23\u001b[0m \u001b[32m━━━━━━━━━━━━━━━━━━━━\u001b[0m\u001b[37m\u001b[0m \u001b[1m0s\u001b[0m 4ms/step - accuracy: 0.6887 - loss: 0.6683 - val_accuracy: 0.6798 - val_loss: 0.6625\n",
      "Epoch 51/100\n",
      "\u001b[1m23/23\u001b[0m \u001b[32m━━━━━━━━━━━━━━━━━━━━\u001b[0m\u001b[37m\u001b[0m \u001b[1m0s\u001b[0m 4ms/step - accuracy: 0.6628 - loss: 0.7149 - val_accuracy: 0.6842 - val_loss: 0.6613\n",
      "Epoch 52/100\n",
      "\u001b[1m23/23\u001b[0m \u001b[32m━━━━━━━━━━━━━━━━━━━━\u001b[0m\u001b[37m\u001b[0m \u001b[1m0s\u001b[0m 4ms/step - accuracy: 0.6524 - loss: 0.7014 - val_accuracy: 0.6754 - val_loss: 0.6578\n",
      "Epoch 53/100\n",
      "\u001b[1m23/23\u001b[0m \u001b[32m━━━━━━━━━━━━━━━━━━━━\u001b[0m\u001b[37m\u001b[0m \u001b[1m0s\u001b[0m 4ms/step - accuracy: 0.7036 - loss: 0.6470 - val_accuracy: 0.6798 - val_loss: 0.6590\n",
      "Epoch 54/100\n",
      "\u001b[1m23/23\u001b[0m \u001b[32m━━━━━━━━━━━━━━━━━━━━\u001b[0m\u001b[37m\u001b[0m \u001b[1m0s\u001b[0m 4ms/step - accuracy: 0.6953 - loss: 0.6870 - val_accuracy: 0.6754 - val_loss: 0.6614\n",
      "Epoch 55/100\n",
      "\u001b[1m23/23\u001b[0m \u001b[32m━━━━━━━━━━━━━━━━━━━━\u001b[0m\u001b[37m\u001b[0m \u001b[1m0s\u001b[0m 4ms/step - accuracy: 0.7009 - loss: 0.6672 - val_accuracy: 0.6711 - val_loss: 0.6666\n",
      "Epoch 56/100\n",
      "\u001b[1m23/23\u001b[0m \u001b[32m━━━━━━━━━━━━━━━━━━━━\u001b[0m\u001b[37m\u001b[0m \u001b[1m0s\u001b[0m 5ms/step - accuracy: 0.7114 - loss: 0.6888 - val_accuracy: 0.6579 - val_loss: 0.6738\n",
      "Epoch 57/100\n",
      "\u001b[1m23/23\u001b[0m \u001b[32m━━━━━━━━━━━━━━━━━━━━\u001b[0m\u001b[37m\u001b[0m \u001b[1m0s\u001b[0m 4ms/step - accuracy: 0.6639 - loss: 0.6971 - val_accuracy: 0.6667 - val_loss: 0.6694\n",
      "Epoch 58/100\n",
      "\u001b[1m23/23\u001b[0m \u001b[32m━━━━━━━━━━━━━━━━━━━━\u001b[0m\u001b[37m\u001b[0m \u001b[1m0s\u001b[0m 4ms/step - accuracy: 0.6875 - loss: 0.6635 - val_accuracy: 0.6667 - val_loss: 0.6657\n",
      "Epoch 59/100\n",
      "\u001b[1m23/23\u001b[0m \u001b[32m━━━━━━━━━━━━━━━━━━━━\u001b[0m\u001b[37m\u001b[0m \u001b[1m0s\u001b[0m 4ms/step - accuracy: 0.7068 - loss: 0.6344 - val_accuracy: 0.6711 - val_loss: 0.6636\n",
      "Epoch 60/100\n",
      "\u001b[1m23/23\u001b[0m \u001b[32m━━━━━━━━━━━━━━━━━━━━\u001b[0m\u001b[37m\u001b[0m \u001b[1m0s\u001b[0m 4ms/step - accuracy: 0.6726 - loss: 0.6723 - val_accuracy: 0.6623 - val_loss: 0.6653\n",
      "Epoch 61/100\n",
      "\u001b[1m23/23\u001b[0m \u001b[32m━━━━━━━━━━━━━━━━━━━━\u001b[0m\u001b[37m\u001b[0m \u001b[1m0s\u001b[0m 4ms/step - accuracy: 0.6714 - loss: 0.6548 - val_accuracy: 0.6667 - val_loss: 0.6639\n",
      "Epoch 62/100\n",
      "\u001b[1m23/23\u001b[0m \u001b[32m━━━━━━━━━━━━━━━━━━━━\u001b[0m\u001b[37m\u001b[0m \u001b[1m0s\u001b[0m 4ms/step - accuracy: 0.6981 - loss: 0.6330 - val_accuracy: 0.6711 - val_loss: 0.6596\n",
      "Epoch 63/100\n",
      "\u001b[1m23/23\u001b[0m \u001b[32m━━━━━━━━━━━━━━━━━━━━\u001b[0m\u001b[37m\u001b[0m \u001b[1m0s\u001b[0m 4ms/step - accuracy: 0.7013 - loss: 0.6478 - val_accuracy: 0.6798 - val_loss: 0.6577\n",
      "Epoch 64/100\n",
      "\u001b[1m23/23\u001b[0m \u001b[32m━━━━━━━━━━━━━━━━━━━━\u001b[0m\u001b[37m\u001b[0m \u001b[1m0s\u001b[0m 4ms/step - accuracy: 0.6684 - loss: 0.6916 - val_accuracy: 0.6842 - val_loss: 0.6590\n",
      "Epoch 65/100\n",
      "\u001b[1m23/23\u001b[0m \u001b[32m━━━━━━━━━━━━━━━━━━━━\u001b[0m\u001b[37m\u001b[0m \u001b[1m0s\u001b[0m 4ms/step - accuracy: 0.6776 - loss: 0.7016 - val_accuracy: 0.6798 - val_loss: 0.6615\n",
      "Epoch 66/100\n",
      "\u001b[1m23/23\u001b[0m \u001b[32m━━━━━━━━━━━━━━━━━━━━\u001b[0m\u001b[37m\u001b[0m \u001b[1m0s\u001b[0m 4ms/step - accuracy: 0.6936 - loss: 0.6590 - val_accuracy: 0.6798 - val_loss: 0.6584\n",
      "Epoch 67/100\n",
      "\u001b[1m23/23\u001b[0m \u001b[32m━━━━━━━━━━━━━━━━━━━━\u001b[0m\u001b[37m\u001b[0m \u001b[1m0s\u001b[0m 4ms/step - accuracy: 0.6995 - loss: 0.6279 - val_accuracy: 0.6667 - val_loss: 0.6621\n",
      "Epoch 68/100\n",
      "\u001b[1m23/23\u001b[0m \u001b[32m━━━━━━━━━━━━━━━━━━━━\u001b[0m\u001b[37m\u001b[0m \u001b[1m0s\u001b[0m 4ms/step - accuracy: 0.7017 - loss: 0.6585 - val_accuracy: 0.6754 - val_loss: 0.6603\n",
      "Epoch 69/100\n",
      "\u001b[1m23/23\u001b[0m \u001b[32m━━━━━━━━━━━━━━━━━━━━\u001b[0m\u001b[37m\u001b[0m \u001b[1m0s\u001b[0m 5ms/step - accuracy: 0.6858 - loss: 0.6568 - val_accuracy: 0.6798 - val_loss: 0.6563\n",
      "Epoch 70/100\n",
      "\u001b[1m23/23\u001b[0m \u001b[32m━━━━━━━━━━━━━━━━━━━━\u001b[0m\u001b[37m\u001b[0m \u001b[1m0s\u001b[0m 5ms/step - accuracy: 0.7244 - loss: 0.6299 - val_accuracy: 0.6667 - val_loss: 0.6678\n",
      "Epoch 71/100\n",
      "\u001b[1m23/23\u001b[0m \u001b[32m━━━━━━━━━━━━━━━━━━━━\u001b[0m\u001b[37m\u001b[0m \u001b[1m0s\u001b[0m 5ms/step - accuracy: 0.7035 - loss: 0.6435 - val_accuracy: 0.6798 - val_loss: 0.6617\n",
      "Epoch 72/100\n",
      "\u001b[1m23/23\u001b[0m \u001b[32m━━━━━━━━━━━━━━━━━━━━\u001b[0m\u001b[37m\u001b[0m \u001b[1m0s\u001b[0m 4ms/step - accuracy: 0.6941 - loss: 0.6648 - val_accuracy: 0.6711 - val_loss: 0.6665\n",
      "Epoch 73/100\n",
      "\u001b[1m23/23\u001b[0m \u001b[32m━━━━━━━━━━━━━━━━━━━━\u001b[0m\u001b[37m\u001b[0m \u001b[1m0s\u001b[0m 5ms/step - accuracy: 0.6945 - loss: 0.6552 - val_accuracy: 0.6623 - val_loss: 0.6654\n",
      "Epoch 74/100\n",
      "\u001b[1m23/23\u001b[0m \u001b[32m━━━━━━━━━━━━━━━━━━━━\u001b[0m\u001b[37m\u001b[0m \u001b[1m0s\u001b[0m 4ms/step - accuracy: 0.7167 - loss: 0.6515 - val_accuracy: 0.6754 - val_loss: 0.6600\n",
      "Epoch 75/100\n",
      "\u001b[1m23/23\u001b[0m \u001b[32m━━━━━━━━━━━━━━━━━━━━\u001b[0m\u001b[37m\u001b[0m \u001b[1m0s\u001b[0m 4ms/step - accuracy: 0.7078 - loss: 0.6459 - val_accuracy: 0.6798 - val_loss: 0.6598\n",
      "Epoch 76/100\n",
      "\u001b[1m23/23\u001b[0m \u001b[32m━━━━━━━━━━━━━━━━━━━━\u001b[0m\u001b[37m\u001b[0m \u001b[1m0s\u001b[0m 4ms/step - accuracy: 0.6809 - loss: 0.6629 - val_accuracy: 0.6754 - val_loss: 0.6594\n",
      "Epoch 77/100\n",
      "\u001b[1m23/23\u001b[0m \u001b[32m━━━━━━━━━━━━━━━━━━━━\u001b[0m\u001b[37m\u001b[0m \u001b[1m0s\u001b[0m 4ms/step - accuracy: 0.7249 - loss: 0.6256 - val_accuracy: 0.6711 - val_loss: 0.6599\n",
      "Epoch 78/100\n",
      "\u001b[1m23/23\u001b[0m \u001b[32m━━━━━━━━━━━━━━━━━━━━\u001b[0m\u001b[37m\u001b[0m \u001b[1m0s\u001b[0m 4ms/step - accuracy: 0.6813 - loss: 0.6587 - val_accuracy: 0.6711 - val_loss: 0.6613\n",
      "Epoch 79/100\n",
      "\u001b[1m23/23\u001b[0m \u001b[32m━━━━━━━━━━━━━━━━━━━━\u001b[0m\u001b[37m\u001b[0m \u001b[1m0s\u001b[0m 4ms/step - accuracy: 0.6773 - loss: 0.6566 - val_accuracy: 0.6711 - val_loss: 0.6630\n",
      "Epoch 80/100\n",
      "\u001b[1m23/23\u001b[0m \u001b[32m━━━━━━━━━━━━━━━━━━━━\u001b[0m\u001b[37m\u001b[0m \u001b[1m0s\u001b[0m 4ms/step - accuracy: 0.7001 - loss: 0.6647 - val_accuracy: 0.6579 - val_loss: 0.6622\n",
      "Epoch 81/100\n",
      "\u001b[1m23/23\u001b[0m \u001b[32m━━━━━━━━━━━━━━━━━━━━\u001b[0m\u001b[37m\u001b[0m \u001b[1m0s\u001b[0m 4ms/step - accuracy: 0.6610 - loss: 0.6612 - val_accuracy: 0.6623 - val_loss: 0.6630\n",
      "Epoch 82/100\n",
      "\u001b[1m23/23\u001b[0m \u001b[32m━━━━━━━━━━━━━━━━━━━━\u001b[0m\u001b[37m\u001b[0m \u001b[1m0s\u001b[0m 4ms/step - accuracy: 0.7089 - loss: 0.6171 - val_accuracy: 0.6579 - val_loss: 0.6666\n",
      "Epoch 83/100\n",
      "\u001b[1m23/23\u001b[0m \u001b[32m━━━━━━━━━━━━━━━━━━━━\u001b[0m\u001b[37m\u001b[0m \u001b[1m0s\u001b[0m 4ms/step - accuracy: 0.6656 - loss: 0.6638 - val_accuracy: 0.6623 - val_loss: 0.6637\n",
      "Epoch 84/100\n",
      "\u001b[1m23/23\u001b[0m \u001b[32m━━━━━━━━━━━━━━━━━━━━\u001b[0m\u001b[37m\u001b[0m \u001b[1m0s\u001b[0m 4ms/step - accuracy: 0.6908 - loss: 0.6143 - val_accuracy: 0.6623 - val_loss: 0.6633\n",
      "Epoch 85/100\n",
      "\u001b[1m23/23\u001b[0m \u001b[32m━━━━━━━━━━━━━━━━━━━━\u001b[0m\u001b[37m\u001b[0m \u001b[1m0s\u001b[0m 3ms/step - accuracy: 0.6999 - loss: 0.6281 - val_accuracy: 0.6579 - val_loss: 0.6654\n",
      "Epoch 86/100\n",
      "\u001b[1m23/23\u001b[0m \u001b[32m━━━━━━━━━━━━━━━━━━━━\u001b[0m\u001b[37m\u001b[0m \u001b[1m0s\u001b[0m 4ms/step - accuracy: 0.6877 - loss: 0.6596 - val_accuracy: 0.6623 - val_loss: 0.6632\n",
      "Epoch 87/100\n",
      "\u001b[1m23/23\u001b[0m \u001b[32m━━━━━━━━━━━━━━━━━━━━\u001b[0m\u001b[37m\u001b[0m \u001b[1m0s\u001b[0m 4ms/step - accuracy: 0.6783 - loss: 0.6595 - val_accuracy: 0.6623 - val_loss: 0.6641\n",
      "Epoch 88/100\n",
      "\u001b[1m23/23\u001b[0m \u001b[32m━━━━━━━━━━━━━━━━━━━━\u001b[0m\u001b[37m\u001b[0m \u001b[1m0s\u001b[0m 4ms/step - accuracy: 0.7162 - loss: 0.6127 - val_accuracy: 0.6667 - val_loss: 0.6618\n",
      "Epoch 89/100\n",
      "\u001b[1m23/23\u001b[0m \u001b[32m━━━━━━━━━━━━━━━━━━━━\u001b[0m\u001b[37m\u001b[0m \u001b[1m0s\u001b[0m 4ms/step - accuracy: 0.7015 - loss: 0.6602 - val_accuracy: 0.6623 - val_loss: 0.6640\n",
      "Epoch 90/100\n",
      "\u001b[1m23/23\u001b[0m \u001b[32m━━━━━━━━━━━━━━━━━━━━\u001b[0m\u001b[37m\u001b[0m \u001b[1m0s\u001b[0m 4ms/step - accuracy: 0.7036 - loss: 0.6507 - val_accuracy: 0.6623 - val_loss: 0.6676\n",
      "Epoch 91/100\n",
      "\u001b[1m23/23\u001b[0m \u001b[32m━━━━━━━━━━━━━━━━━━━━\u001b[0m\u001b[37m\u001b[0m \u001b[1m0s\u001b[0m 4ms/step - accuracy: 0.7135 - loss: 0.6276 - val_accuracy: 0.6623 - val_loss: 0.6595\n",
      "Epoch 92/100\n",
      "\u001b[1m23/23\u001b[0m \u001b[32m━━━━━━━━━━━━━━━━━━━━\u001b[0m\u001b[37m\u001b[0m \u001b[1m0s\u001b[0m 4ms/step - accuracy: 0.6980 - loss: 0.6207 - val_accuracy: 0.6711 - val_loss: 0.6576\n",
      "Epoch 93/100\n",
      "\u001b[1m23/23\u001b[0m \u001b[32m━━━━━━━━━━━━━━━━━━━━\u001b[0m\u001b[37m\u001b[0m \u001b[1m0s\u001b[0m 4ms/step - accuracy: 0.6802 - loss: 0.6443 - val_accuracy: 0.6754 - val_loss: 0.6576\n",
      "Epoch 94/100\n",
      "\u001b[1m23/23\u001b[0m \u001b[32m━━━━━━━━━━━━━━━━━━━━\u001b[0m\u001b[37m\u001b[0m \u001b[1m0s\u001b[0m 4ms/step - accuracy: 0.7098 - loss: 0.6124 - val_accuracy: 0.6623 - val_loss: 0.6555\n",
      "Epoch 95/100\n",
      "\u001b[1m23/23\u001b[0m \u001b[32m━━━━━━━━━━━━━━━━━━━━\u001b[0m\u001b[37m\u001b[0m \u001b[1m0s\u001b[0m 4ms/step - accuracy: 0.6978 - loss: 0.6351 - val_accuracy: 0.6579 - val_loss: 0.6565\n",
      "Epoch 96/100\n",
      "\u001b[1m23/23\u001b[0m \u001b[32m━━━━━━━━━━━━━━━━━━━━\u001b[0m\u001b[37m\u001b[0m \u001b[1m0s\u001b[0m 4ms/step - accuracy: 0.7146 - loss: 0.6332 - val_accuracy: 0.6579 - val_loss: 0.6533\n",
      "Epoch 97/100\n",
      "\u001b[1m23/23\u001b[0m \u001b[32m━━━━━━━━━━━━━━━━━━━━\u001b[0m\u001b[37m\u001b[0m \u001b[1m0s\u001b[0m 4ms/step - accuracy: 0.7040 - loss: 0.6361 - val_accuracy: 0.6623 - val_loss: 0.6555\n",
      "Epoch 98/100\n",
      "\u001b[1m23/23\u001b[0m \u001b[32m━━━━━━━━━━━━━━━━━━━━\u001b[0m\u001b[37m\u001b[0m \u001b[1m0s\u001b[0m 4ms/step - accuracy: 0.7180 - loss: 0.6286 - val_accuracy: 0.6711 - val_loss: 0.6498\n",
      "Epoch 99/100\n",
      "\u001b[1m23/23\u001b[0m \u001b[32m━━━━━━━━━━━━━━━━━━━━\u001b[0m\u001b[37m\u001b[0m \u001b[1m0s\u001b[0m 4ms/step - accuracy: 0.7043 - loss: 0.6381 - val_accuracy: 0.6754 - val_loss: 0.6515\n",
      "Epoch 100/100\n",
      "\u001b[1m23/23\u001b[0m \u001b[32m━━━━━━━━━━━━━━━━━━━━\u001b[0m\u001b[37m\u001b[0m \u001b[1m0s\u001b[0m 4ms/step - accuracy: 0.6943 - loss: 0.6364 - val_accuracy: 0.6754 - val_loss: 0.6551\n"
     ]
    }
   ],
   "source": [
    "model = Sequential([\n",
    "    Dense(128, activation='relu', input_shape=(X_train.shape[1],)),\n",
    "    Dropout(0.5),\n",
    "    Dense(64, activation='relu'),\n",
    "    Dropout(0.5),\n",
    "    Dense(32, activation='relu'),\n",
    "    Dropout(0.5),\n",
    "    Dense(16, activation='relu'),\n",
    "    Dense(3, activation='softmax')\n",
    "])\n",
    "\n",
    "model.compile(optimizer='adam', loss='sparse_categorical_crossentropy', metrics=['accuracy'])\n",
    "\n",
    "history = model.fit(X_train, y_train, epochs=100, validation_data=(X_val, y_val), batch_size=32)"
   ]
  },
  {
   "cell_type": "markdown",
   "id": "63b40692",
   "metadata": {
    "papermill": {
     "duration": 0.023983,
     "end_time": "2024-11-27T01:24:01.665636",
     "exception": false,
     "start_time": "2024-11-27T01:24:01.641653",
     "status": "completed"
    },
    "tags": []
   },
   "source": [
    "# Model Evaluation\n",
    "\n",
    "## Setelah pelatihan selesai, model dievaluasi pada data validasi dan data uji. Metrik evaluasi meliputi:\n",
    "\n",
    "- Loss: Mengukur seberapa jauh prediksi model dari target sebenarnya.\n",
    "- Accuracy: Mengukur persentase prediksi yang benar.\n",
    "\n",
    "Selain itu, grafik dibuat untuk memvisualisasikan perubahan loss dan accuracy selama proses pelatihan, baik pada data latih maupun validasi.\n",
    "\n",
    "Kemudian Model yang telah dilatih diuji untuk membuat prediksi pada data baru."
   ]
  },
  {
   "cell_type": "code",
   "execution_count": 15,
   "id": "1c8b9dd0",
   "metadata": {
    "execution": {
     "iopub.execute_input": "2024-11-27T01:24:01.717085Z",
     "iopub.status.busy": "2024-11-27T01:24:01.716652Z",
     "iopub.status.idle": "2024-11-27T01:24:01.899031Z",
     "shell.execute_reply": "2024-11-27T01:24:01.897821Z"
    },
    "papermill": {
     "duration": 0.211356,
     "end_time": "2024-11-27T01:24:01.901194",
     "exception": false,
     "start_time": "2024-11-27T01:24:01.689838",
     "status": "completed"
    },
    "tags": []
   },
   "outputs": [
    {
     "name": "stdout",
     "output_type": "stream",
     "text": [
      "\u001b[1m8/8\u001b[0m \u001b[32m━━━━━━━━━━━━━━━━━━━━\u001b[0m\u001b[37m\u001b[0m \u001b[1m0s\u001b[0m 2ms/step - accuracy: 0.6758 - loss: 0.6720 \n",
      "Validation Loss: 0.6550797820091248\n",
      "Validation Accuracy: 0.6754385828971863\n",
      "\u001b[1m3/3\u001b[0m \u001b[32m━━━━━━━━━━━━━━━━━━━━\u001b[0m\u001b[37m\u001b[0m \u001b[1m0s\u001b[0m 3ms/step - accuracy: 0.6567 - loss: 0.7257 \n",
      "Test Loss: 0.7264341115951538\n",
      "Test Accuracy: 0.649350643157959\n"
     ]
    }
   ],
   "source": [
    "val_loss, val_accuracy = model.evaluate(X_val, y_val)\n",
    "print(f'Validation Loss: {val_loss}')\n",
    "print(f'Validation Accuracy: {val_accuracy}')\n",
    "\n",
    "test_loss, test_accuracy = model.evaluate(X_test, y_test)\n",
    "print(f'Test Loss: {test_loss}')\n",
    "print(f'Test Accuracy: {test_accuracy}')"
   ]
  },
  {
   "cell_type": "code",
   "execution_count": 16,
   "id": "bb17f341",
   "metadata": {
    "execution": {
     "iopub.execute_input": "2024-11-27T01:24:01.954595Z",
     "iopub.status.busy": "2024-11-27T01:24:01.954186Z",
     "iopub.status.idle": "2024-11-27T01:24:02.463512Z",
     "shell.execute_reply": "2024-11-27T01:24:02.462280Z"
    },
    "papermill": {
     "duration": 0.538293,
     "end_time": "2024-11-27T01:24:02.465834",
     "exception": false,
     "start_time": "2024-11-27T01:24:01.927541",
     "status": "completed"
    },
    "tags": []
   },
   "outputs": [
    {
     "data": {
      "image/png": "[encoded data removed]",
      "text/plain": [
       "<Figure size 1200x400 with 2 Axes>"
      ]
     },
     "metadata": {},
     "output_type": "display_data"
    }
   ],
   "source": [
    "plt.figure(figsize=(12, 4))\n",
    "plt.subplot(1, 2, 1)\n",
    "\n",
    "\n",
    "plt.plot(history.history['accuracy'], label='Training Accuracy', color='#DC5CB5', linewidth=2)\n",
    "plt.plot(history.history['val_accuracy'], label='Validation Accuracy', color='#9B8BFA', linestyle='--', linewidth=2)\n",
    "plt.title('Model Accuracy')\n",
    "plt.ylabel('Accuracy')\n",
    "plt.xlabel('Epoch')\n",
    "plt.legend(['Train', 'Validation'], loc='upper left')\n",
    "\n",
    "plt.subplot(1, 2, 2)\n",
    "plt.plot(history.history['loss'], label='Training Loss', color='#F490C5', linewidth=2)\n",
    "plt.plot(history.history['val_loss'], label='Validation Loss', color='#5CBEE3', linestyle='--', linewidth=2)\n",
    "plt.title('Model Loss')\n",
    "plt.ylabel('Loss')\n",
    "plt.xlabel('Epoch')\n",
    "plt.legend(['Train', 'Validation'], loc='upper left')\n",
    "\n",
    "plt.tight_layout()\n",
    "plt.show()\n"
   ]
  },
  {
   "cell_type": "code",
   "execution_count": 17,
   "id": "e78bbe3b",
   "metadata": {
    "execution": {
     "iopub.execute_input": "2024-11-27T01:24:02.519966Z",
     "iopub.status.busy": "2024-11-27T01:24:02.519543Z",
     "iopub.status.idle": "2024-11-27T01:24:02.649149Z",
     "shell.execute_reply": "2024-11-27T01:24:02.647427Z"
    },
    "papermill": {
     "duration": 0.159933,
     "end_time": "2024-11-27T01:24:02.651729",
     "exception": false,
     "start_time": "2024-11-27T01:24:02.491796",
     "status": "completed"
    },
    "tags": []
   },
   "outputs": [
    {
     "name": "stdout",
     "output_type": "stream",
     "text": [
      "\u001b[1m1/1\u001b[0m \u001b[32m━━━━━━━━━━━━━━━━━━━━\u001b[0m\u001b[37m\u001b[0m \u001b[1m0s\u001b[0m 68ms/step\n",
      "Prediksi kelas: Mid Risk\n"
     ]
    },
    {
     "name": "stderr",
     "output_type": "stream",
     "text": [
      "/opt/conda/lib/python3.10/site-packages/sklearn/base.py:439: UserWarning: X does not have valid feature names, but StandardScaler was fitted with feature names\n",
      "  warnings.warn(\n"
     ]
    }
   ],
   "source": [
    "data_baru_1 = np.array([[32,120,65,6.0,38.333333,76]])  # labelnya 1\n",
    "\n",
    "data_baru_scaled = scaler.transform(data_baru_1)\n",
    "\n",
    "predict_data_baru = model.predict(data_baru_scaled)\n",
    "\n",
    "prediksi_index = np.argmax(predict_data_baru)\n",
    "\n",
    "label_mapping = {0: 'Normal', 1: 'Mid Risk', 2: 'High Risk'}\n",
    "prediksi_label = label_mapping[prediksi_index]\n",
    "\n",
    "print(f\"Prediksi kelas: {prediksi_label}\")"
   ]
  },
  {
   "cell_type": "markdown",
   "id": "45eb4f7f",
   "metadata": {
    "papermill": {
     "duration": 0.0277,
     "end_time": "2024-11-27T01:24:02.705664",
     "exception": false,
     "start_time": "2024-11-27T01:24:02.677964",
     "status": "completed"
    },
    "tags": []
   },
   "source": [
    "# Model Saving\n",
    "\n",
    "Model yang telah dilatih disimpan dalam format .h5, sehingga dapat digunakan kembali di masa depan tanpa perlu melatih ulang. "
   ]
  },
  {
   "cell_type": "code",
   "execution_count": 18,
   "id": "efdd0cec",
   "metadata": {
    "execution": {
     "iopub.execute_input": "2024-11-27T01:24:02.759912Z",
     "iopub.status.busy": "2024-11-27T01:24:02.759504Z",
     "iopub.status.idle": "2024-11-27T01:24:02.806802Z",
     "shell.execute_reply": "2024-11-27T01:24:02.805643Z"
    },
    "papermill": {
     "duration": 0.077465,
     "end_time": "2024-11-27T01:24:02.809322",
     "exception": false,
     "start_time": "2024-11-27T01:24:02.731857",
     "status": "completed"
    },
    "tags": []
   },
   "outputs": [],
   "source": [
    "model.save('/kaggle/working/model 2.h5')"
   ]
  }
 ],
 "metadata": {
  "kaggle": {
   "accelerator": "none",
   "dataSources": [
    {
     "datasetId": 1811836,
     "sourceId": 2955129,
     "sourceType": "datasetVersion"
    }
   ],
   "dockerImageVersionId": 30786,
   "isGpuEnabled": false,
   "isInternetEnabled": true,
   "language": "python",
   "sourceType": "notebook"
  },
  "kernelspec": {
   "display_name": "Python 3",
   "language": "python",
   "name": "python3"
  },
  "language_info": {
   "codemirror_mode": {
    "name": "ipython",
    "version": 3
   },
   "file_extension": ".py",
   "mimetype": "text/x-python",
   "name": "python",
   "nbconvert_exporter": "python",
   "pygments_lexer": "ipython3",
   "version": "3.10.14"
  },
  "papermill": {
   "default_parameters": {},
   "duration": 38.284048,
   "end_time": "2024-11-27T01:24:04.563143",
   "environment_variables": {},
   "exception": null,
   "input_path": "__notebook__.ipynb",
   "output_path": "__notebook__.ipynb",
   "parameters": {},
   "start_time": "2024-11-27T01:23:26.279095",
   "version": "2.6.0"
  }
 },
 "nbformat": 4,
 "nbformat_minor": 5
}
