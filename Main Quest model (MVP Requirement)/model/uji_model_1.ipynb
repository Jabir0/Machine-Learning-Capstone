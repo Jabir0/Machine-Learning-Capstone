{
 "cells": [
  {
   "cell_type": "code",
   "execution_count": 14,
   "metadata": {},
   "outputs": [
    {
     "name": "stdout",
     "output_type": "stream",
     "text": [
      "Prediksi Stunting: Stunted\n",
      "Prediksi Wasting: Normal\n"
     ]
    }
   ],
   "source": [
    "import numpy as np\n",
    "import tensorflow as tf\n",
    "from sklearn.preprocessing import StandardScaler\n",
    "\n",
    "# Load TFLite model\n",
    "interpreter = tf.lite.Interpreter(model_path=\"model 1.tflite\")\n",
    "interpreter.allocate_tensors()\n",
    "\n",
    "# Mendapatkan informasi input dan output\n",
    "input_details = interpreter.get_input_details()\n",
    "output_details = interpreter.get_output_details()\n",
    "\n",
    "# Contoh data baru untuk pengujian\n",
    "new_data = np.array([[0.0, 12.0, 69.0, 9.0]])  # Gender, Umur (bulan), Tinggi, Berat\n",
    "\n",
    "# Standarisasi data (sesuaikan scaler dengan yang digunakan saat pelatihan)\n",
    "scaler = StandardScaler()\n",
    "# Anda perlu memastikan scaler.fit(X_train) sudah dilakukan sebelumnya,\n",
    "# atau load scaler yang telah disimpan selama preprocessing.\n",
    "scaler.mean_ = np.array([0.49821 ,11.99258,  73.132657,  9.259256])  # Sesuaikan mean pelatihan\n",
    "scaler.scale_ = np.array([0.4999968  ,7.19963506, 11.36078884,  3.30076366])  # Sesuaikan scale pelatihan\n",
    "new_data_scaled = scaler.transform(new_data)\n",
    "\n",
    "# Pastikan input sesuai dengan format TFLite\n",
    "new_data_scaled = new_data_scaled.astype(np.float32)\n",
    "\n",
    "# Berikan input pada model\n",
    "interpreter.set_tensor(input_details[0]['index'], new_data_scaled)\n",
    "\n",
    "# Jalankan inferensi\n",
    "interpreter.invoke()\n",
    "\n",
    "# Ambil hasil output\n",
    "stunting_pred = interpreter.get_tensor(output_details[1]['index'])\n",
    "wasting_pred = interpreter.get_tensor(output_details[0]['index'])\n",
    "\n",
    "# Mapping label untuk prediksi stunting dan wasting\n",
    "gender = new_data[0][0]  # Gender: 0 = Female, 1 = Male\n",
    "\n",
    "if gender == 0: \n",
    "    stunting_mapping = {0: 'Normal', 1: 'Severely Stunted', 2: 'Stunted', 3: 'Tall'}\n",
    "else: \n",
    "    stunting_mapping = {0: 'Normal', 1: 'Severely Stunted', 2: 'Stunted', 3: 'Tall'}\n",
    "\n",
    "if gender == 0:\n",
    "    wasting_mapping = {0: 'Normal', 1: 'Risk of Overweight', 2: 'Severely Underweight', 3: 'Underweight'}\n",
    "else:  \n",
    "    wasting_mapping = {0: 'Normal', 1: 'Risk of Overweight', 2: 'Severely Underweight', 3: 'Underweight'}\n",
    "\n",
    "# Dapatkan label prediksi\n",
    "stunting_pred_label = stunting_mapping[np.argmax(stunting_pred)]\n",
    "wasting_pred_label = wasting_mapping[np.argmax(wasting_pred)]\n",
    "\n",
    "# Cetak hasil prediksi\n",
    "print(f\"Prediksi Stunting: {stunting_pred_label}\")\n",
    "print(f\"Prediksi Wasting: {wasting_pred_label}\")\n"
   ]
  },
  {
   "cell_type": "code",
   "execution_count": 15,
   "metadata": {},
   "outputs": [
    {
     "name": "stdout",
     "output_type": "stream",
     "text": [
      "[[-0.9964264   0.00103061 -0.36376497 -0.07854425]]\n"
     ]
    }
   ],
   "source": [
    "print(new_data_scaled)"
   ]
  }
 ],
 "metadata": {
  "kernelspec": {
   "display_name": "Python 3",
   "language": "python",
   "name": "python3"
  },
  "language_info": {
   "codemirror_mode": {
    "name": "ipython",
    "version": 3
   },
   "file_extension": ".py",
   "mimetype": "text/x-python",
   "name": "python",
   "nbconvert_exporter": "python",
   "pygments_lexer": "ipython3",
   "version": "3.11.3"
  }
 },
 "nbformat": 4,
 "nbformat_minor": 2
}
