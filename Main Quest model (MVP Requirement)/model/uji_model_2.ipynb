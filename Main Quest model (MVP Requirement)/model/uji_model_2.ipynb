{
 "cells": [
  {
   "cell_type": "code",
   "execution_count": 3,
   "metadata": {},
   "outputs": [
    {
     "name": "stdout",
     "output_type": "stream",
     "text": [
      "Prediksi Resiko Kehamilan: Mid Risk\n"
     ]
    }
   ],
   "source": [
    "import numpy as np\n",
    "import tensorflow as tf\n",
    "from sklearn.preprocessing import StandardScaler\n",
    "\n",
    "interpreter = tf.lite.Interpreter(model_path=\"model 2.tflite\")\n",
    "interpreter.allocate_tensors()\n",
    "\n",
    "input_details = interpreter.get_input_details()\n",
    "output_details = interpreter.get_output_details()\n",
    "\n",
    "new_data = np.array([[32,120,65,6.0,38.333333,76]])  #Labelnya 1 = Mid Risk\n",
    "\n",
    "# Standarisasi data (sesuaikan scaler dengan yang digunakan saat pelatihan)\n",
    "scaler = StandardScaler()\n",
    "# Anda perlu memastikan scaler.fit(X_train) sudah dilakukan sebelumnya,\n",
    "# atau load scaler yang telah disimpan selama preprocessing.\n",
    "scaler.mean_ = np.array([29.87179487, 113.19822485,  76.46055227,   8.72598619,  37.03616042,\n",
    "  74.30177515])  # Sesuaikan mean pelatihan\n",
    "scaler.scale_ = np.array([13.46773972, 18.39483561, 13.878947,    3.29190729,  0.76150444,  8.08471278])  # Sesuaikan scale pelatihan\n",
    "new_data_scaled = scaler.transform(new_data)\n",
    "\n",
    "# Pastikan input sesuai dengan format TFLite\n",
    "new_data_scaled = new_data_scaled.astype(np.float32)\n",
    "\n",
    "# Berikan input pada model\n",
    "interpreter.set_tensor(input_details[0]['index'], new_data_scaled)\n",
    "\n",
    "# Jalankan inferensi\n",
    "interpreter.invoke()\n",
    "\n",
    "# Ambil hasil output\n",
    "risk_pred = interpreter.get_tensor(output_details[0]['index'])\n",
    "\n",
    "risk_pred_mapping = {0:'Normal', 1:'Mid Risk', 2:'High Risk'}\n",
    "\n",
    "# Dapatkan label prediksi\n",
    "risk_pred_label = risk_pred_mapping[np.argmax(risk_pred)]\n",
    "\n",
    "# Cetak hasil prediksi\n",
    "print(f\"Prediksi Resiko Kehamilan: {risk_pred_label}\")\n"
   ]
  },
  {
   "cell_type": "code",
   "execution_count": 15,
   "metadata": {},
   "outputs": [
    {
     "name": "stdout",
     "output_type": "stream",
     "text": [
      "[[-0.9964264   0.00103061 -0.36376497 -0.07854425]]\n"
     ]
    }
   ],
   "source": [
    "print(new_data_scaled)"
   ]
  }
 ],
 "metadata": {
  "kernelspec": {
   "display_name": "Python 3",
   "language": "python",
   "name": "python3"
  },
  "language_info": {
   "codemirror_mode": {
    "name": "ipython",
    "version": 3
   },
   "file_extension": ".py",
   "mimetype": "text/x-python",
   "name": "python",
   "nbconvert_exporter": "python",
   "pygments_lexer": "ipython3",
   "version": "3.11.3"
  }
 },
 "nbformat": 4,
 "nbformat_minor": 2
}
