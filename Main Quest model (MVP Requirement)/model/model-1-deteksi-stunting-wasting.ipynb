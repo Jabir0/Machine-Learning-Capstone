{
 "cells": [
  {
   "cell_type": "markdown",
   "id": "9f158c09",
   "metadata": {
    "papermill": {
     "duration": 0.005593,
     "end_time": "2024-11-25T11:51:10.234908",
     "exception": false,
     "start_time": "2024-11-25T11:51:10.229315",
     "status": "completed"
    },
    "tags": []
   },
   "source": [
    "# Setup & Import Libraries\n",
    "\n",
    "### Memulai proyek dengan menyiapkan dan mengimpor pustaka yang dibutuhkan.\n",
    "\n",
    "- Mengimpor pustaka seperti numpy, pandas, sklearn, tensorflow, dan pustaka visualisasi seperti matplotlib dan seaborn.\n",
    "- Memastikan bahwa semua file data tersedia untuk analisis dengan menampilkan jalur file."
   ]
  },
  {
   "cell_type": "code",
   "execution_count": 1,
   "id": "5f37a87c",
   "metadata": {
    "_cell_guid": "b1076dfc-b9ad-4769-8c92-a6c4dae69d19",
    "_uuid": "8f2839f25d086af736a60e9eeb907d3b93b6e0e5",
    "execution": {
     "iopub.execute_input": "2024-11-25T11:51:10.247215Z",
     "iopub.status.busy": "2024-11-25T11:51:10.246707Z",
     "iopub.status.idle": "2024-11-25T11:51:26.959404Z",
     "shell.execute_reply": "2024-11-25T11:51:26.958365Z"
    },
    "papermill": {
     "duration": 16.721542,
     "end_time": "2024-11-25T11:51:26.961858",
     "exception": false,
     "start_time": "2024-11-25T11:51:10.240316",
     "status": "completed"
    },
    "tags": []
   },
   "outputs": [
    {
     "name": "stdout",
     "output_type": "stream",
     "text": [
      "/kaggle/input/stunting-wasting-dataset/stunting_wasting_dataset.csv\n",
      "/kaggle/input/z-scores who/lhfa_girls_0-to-5-years_zscores.csv\n",
      "/kaggle/input/z-scores who/wfa_boys_0-to-5-years_zscores.csv\n",
      "/kaggle/input/z-scores who/lhfa_boys_0-to-5-years_zscores.csv\n",
      "/kaggle/input/z-scores who/wfa_girls_0-to-5-years_zscores.csv\n"
     ]
    }
   ],
   "source": [
    "# This Python 3 environment comes with many helpful analytics libraries installed\n",
    "# It is defined by the kaggle/python Docker image: https://github.com/kaggle/docker-python\n",
    "# For example, here's several helpful packages to load\n",
    "\n",
    "import numpy as np # linear algebra\n",
    "import pandas as pd # data processing, CSV file I/O (e.g. pd.read_csv)\n",
    "\n",
    "# Input data files are available in the read-only \"../input/\" directory\n",
    "# For example, running this (by clicking run or pressing Shift+Enter) will list all files under the input directory\n",
    "\n",
    "import os\n",
    "for dirname, _, filenames in os.walk('/kaggle/input'):\n",
    "    for filename in filenames:\n",
    "        print(os.path.join(dirname, filename))\n",
    "\n",
    "# You can write up to 20GB to the current directory (/kaggle/working/) that gets preserved as output when you create a version using \"Save & Run All\" \n",
    "# You can also write temporary files to /kaggle/temp/, but they won't be saved outside of the current session\n",
    "\n",
    "from sklearn.preprocessing import StandardScaler, LabelEncoder\n",
    "import tensorflow as tf\n",
    "from tensorflow.keras import layers, models\n",
    "import matplotlib.pyplot as plt\n",
    "import seaborn as sns\n",
    "from sklearn.model_selection import train_test_split"
   ]
  },
  {
   "cell_type": "markdown",
   "id": "950a6b2f",
   "metadata": {
    "papermill": {
     "duration": 0.005317,
     "end_time": "2024-11-25T11:51:26.973146",
     "exception": false,
     "start_time": "2024-11-25T11:51:26.967829",
     "status": "completed"
    },
    "tags": []
   },
   "source": [
    "# Data Loading & Exploration\n",
    "### Memuat dataset dan memahami struktur data.\n",
    "\n",
    "- Memuat dataset menggunakan `pd.read_csv`.\n",
    "- Menampilkan beberapa baris pertama menggunakan `.head()`.\n",
    "- Memeriksa tipe data, missing values, dan statistik deskriptif menggunakan `.info()` dan `.describe()`.\n",
    "- Visualisasi distribusi data menggunakan diagram batang (`sns.countplot`)."
   ]
  },
  {
   "cell_type": "code",
   "execution_count": 2,
   "id": "8d2e1ecd",
   "metadata": {
    "execution": {
     "iopub.execute_input": "2024-11-25T11:51:26.985399Z",
     "iopub.status.busy": "2024-11-25T11:51:26.984750Z",
     "iopub.status.idle": "2024-11-25T11:51:27.202187Z",
     "shell.execute_reply": "2024-11-25T11:51:27.200976Z"
    },
    "papermill": {
     "duration": 0.225989,
     "end_time": "2024-11-25T11:51:27.204412",
     "exception": false,
     "start_time": "2024-11-25T11:51:26.978423",
     "status": "completed"
    },
    "tags": []
   },
   "outputs": [
    {
     "data": {
      "text/html": [
       "<div>\n",
       "<style scoped>\n",
       "    .dataframe tbody tr th:only-of-type {\n",
       "        vertical-align: middle;\n",
       "    }\n",
       "\n",
       "    .dataframe tbody tr th {\n",
       "        vertical-align: top;\n",
       "    }\n",
       "\n",
       "    .dataframe thead th {\n",
       "        text-align: right;\n",
       "    }\n",
       "</style>\n",
       "<table border=\"1\" class=\"dataframe\">\n",
       "  <thead>\n",
       "    <tr style=\"text-align: right;\">\n",
       "      <th></th>\n",
       "      <th>Jenis Kelamin</th>\n",
       "      <th>Umur (bulan)</th>\n",
       "      <th>Tinggi Badan (cm)</th>\n",
       "      <th>Berat Badan (kg)</th>\n",
       "      <th>Stunting</th>\n",
       "      <th>Wasting</th>\n",
       "    </tr>\n",
       "  </thead>\n",
       "  <tbody>\n",
       "    <tr>\n",
       "      <th>0</th>\n",
       "      <td>Laki-laki</td>\n",
       "      <td>19</td>\n",
       "      <td>91.6</td>\n",
       "      <td>13.3</td>\n",
       "      <td>Tall</td>\n",
       "      <td>Risk of Overweight</td>\n",
       "    </tr>\n",
       "    <tr>\n",
       "      <th>1</th>\n",
       "      <td>Laki-laki</td>\n",
       "      <td>20</td>\n",
       "      <td>77.7</td>\n",
       "      <td>8.5</td>\n",
       "      <td>Stunted</td>\n",
       "      <td>Underweight</td>\n",
       "    </tr>\n",
       "    <tr>\n",
       "      <th>2</th>\n",
       "      <td>Laki-laki</td>\n",
       "      <td>10</td>\n",
       "      <td>79.0</td>\n",
       "      <td>10.3</td>\n",
       "      <td>Normal</td>\n",
       "      <td>Risk of Overweight</td>\n",
       "    </tr>\n",
       "    <tr>\n",
       "      <th>3</th>\n",
       "      <td>Perempuan</td>\n",
       "      <td>2</td>\n",
       "      <td>50.3</td>\n",
       "      <td>8.3</td>\n",
       "      <td>Severely Stunted</td>\n",
       "      <td>Risk of Overweight</td>\n",
       "    </tr>\n",
       "    <tr>\n",
       "      <th>4</th>\n",
       "      <td>Perempuan</td>\n",
       "      <td>5</td>\n",
       "      <td>56.4</td>\n",
       "      <td>10.9</td>\n",
       "      <td>Severely Stunted</td>\n",
       "      <td>Risk of Overweight</td>\n",
       "    </tr>\n",
       "  </tbody>\n",
       "</table>\n",
       "</div>"
      ],
      "text/plain": [
       "  Jenis Kelamin  Umur (bulan)  Tinggi Badan (cm)  Berat Badan (kg)  \\\n",
       "0     Laki-laki            19               91.6              13.3   \n",
       "1     Laki-laki            20               77.7               8.5   \n",
       "2     Laki-laki            10               79.0              10.3   \n",
       "3     Perempuan             2               50.3               8.3   \n",
       "4     Perempuan             5               56.4              10.9   \n",
       "\n",
       "           Stunting             Wasting  \n",
       "0              Tall  Risk of Overweight  \n",
       "1           Stunted         Underweight  \n",
       "2            Normal  Risk of Overweight  \n",
       "3  Severely Stunted  Risk of Overweight  \n",
       "4  Severely Stunted  Risk of Overweight  "
      ]
     },
     "execution_count": 2,
     "metadata": {},
     "output_type": "execute_result"
    }
   ],
   "source": [
    "df = pd.read_csv('/kaggle/input/stunting-wasting-dataset/stunting_wasting_dataset.csv')\n",
    "df.head()"
   ]
  },
  {
   "cell_type": "code",
   "execution_count": 3,
   "id": "2f0f66da",
   "metadata": {
    "execution": {
     "iopub.execute_input": "2024-11-25T11:51:27.216970Z",
     "iopub.status.busy": "2024-11-25T11:51:27.216596Z",
     "iopub.status.idle": "2024-11-25T11:51:27.261608Z",
     "shell.execute_reply": "2024-11-25T11:51:27.260204Z"
    },
    "papermill": {
     "duration": 0.054302,
     "end_time": "2024-11-25T11:51:27.264163",
     "exception": false,
     "start_time": "2024-11-25T11:51:27.209861",
     "status": "completed"
    },
    "tags": []
   },
   "outputs": [
    {
     "name": "stdout",
     "output_type": "stream",
     "text": [
      "<class 'pandas.core.frame.DataFrame'>\n",
      "RangeIndex: 100000 entries, 0 to 99999\n",
      "Data columns (total 6 columns):\n",
      " #   Column             Non-Null Count   Dtype  \n",
      "---  ------             --------------   -----  \n",
      " 0   Jenis Kelamin      100000 non-null  object \n",
      " 1   Umur (bulan)       100000 non-null  int64  \n",
      " 2   Tinggi Badan (cm)  100000 non-null  float64\n",
      " 3   Berat Badan (kg)   100000 non-null  float64\n",
      " 4   Stunting           100000 non-null  object \n",
      " 5   Wasting            100000 non-null  object \n",
      "dtypes: float64(2), int64(1), object(3)\n",
      "memory usage: 4.6+ MB\n"
     ]
    }
   ],
   "source": [
    "df.info()"
   ]
  },
  {
   "cell_type": "code",
   "execution_count": 4,
   "id": "fbdae230",
   "metadata": {
    "execution": {
     "iopub.execute_input": "2024-11-25T11:51:27.277471Z",
     "iopub.status.busy": "2024-11-25T11:51:27.277052Z",
     "iopub.status.idle": "2024-11-25T11:51:27.313152Z",
     "shell.execute_reply": "2024-11-25T11:51:27.311638Z"
    },
    "papermill": {
     "duration": 0.045089,
     "end_time": "2024-11-25T11:51:27.315667",
     "exception": false,
     "start_time": "2024-11-25T11:51:27.270578",
     "status": "completed"
    },
    "tags": []
   },
   "outputs": [
    {
     "data": {
      "text/html": [
       "<div>\n",
       "<style scoped>\n",
       "    .dataframe tbody tr th:only-of-type {\n",
       "        vertical-align: middle;\n",
       "    }\n",
       "\n",
       "    .dataframe tbody tr th {\n",
       "        vertical-align: top;\n",
       "    }\n",
       "\n",
       "    .dataframe thead th {\n",
       "        text-align: right;\n",
       "    }\n",
       "</style>\n",
       "<table border=\"1\" class=\"dataframe\">\n",
       "  <thead>\n",
       "    <tr style=\"text-align: right;\">\n",
       "      <th></th>\n",
       "      <th>Umur (bulan)</th>\n",
       "      <th>Tinggi Badan (cm)</th>\n",
       "      <th>Berat Badan (kg)</th>\n",
       "    </tr>\n",
       "  </thead>\n",
       "  <tbody>\n",
       "    <tr>\n",
       "      <th>count</th>\n",
       "      <td>100000.000000</td>\n",
       "      <td>100000.000000</td>\n",
       "      <td>100000.000000</td>\n",
       "    </tr>\n",
       "    <tr>\n",
       "      <th>mean</th>\n",
       "      <td>11.992580</td>\n",
       "      <td>73.132657</td>\n",
       "      <td>9.259256</td>\n",
       "    </tr>\n",
       "    <tr>\n",
       "      <th>std</th>\n",
       "      <td>7.199671</td>\n",
       "      <td>11.360846</td>\n",
       "      <td>3.300780</td>\n",
       "    </tr>\n",
       "    <tr>\n",
       "      <th>min</th>\n",
       "      <td>0.000000</td>\n",
       "      <td>42.600000</td>\n",
       "      <td>1.000000</td>\n",
       "    </tr>\n",
       "    <tr>\n",
       "      <th>25%</th>\n",
       "      <td>6.000000</td>\n",
       "      <td>65.500000</td>\n",
       "      <td>6.900000</td>\n",
       "    </tr>\n",
       "    <tr>\n",
       "      <th>50%</th>\n",
       "      <td>12.000000</td>\n",
       "      <td>74.200000</td>\n",
       "      <td>9.200000</td>\n",
       "    </tr>\n",
       "    <tr>\n",
       "      <th>75%</th>\n",
       "      <td>18.000000</td>\n",
       "      <td>81.400000</td>\n",
       "      <td>11.700000</td>\n",
       "    </tr>\n",
       "    <tr>\n",
       "      <th>max</th>\n",
       "      <td>24.000000</td>\n",
       "      <td>97.600000</td>\n",
       "      <td>17.200000</td>\n",
       "    </tr>\n",
       "  </tbody>\n",
       "</table>\n",
       "</div>"
      ],
      "text/plain": [
       "        Umur (bulan)  Tinggi Badan (cm)  Berat Badan (kg)\n",
       "count  100000.000000      100000.000000     100000.000000\n",
       "mean       11.992580          73.132657          9.259256\n",
       "std         7.199671          11.360846          3.300780\n",
       "min         0.000000          42.600000          1.000000\n",
       "25%         6.000000          65.500000          6.900000\n",
       "50%        12.000000          74.200000          9.200000\n",
       "75%        18.000000          81.400000         11.700000\n",
       "max        24.000000          97.600000         17.200000"
      ]
     },
     "execution_count": 4,
     "metadata": {},
     "output_type": "execute_result"
    }
   ],
   "source": [
    "df.describe()"
   ]
  },
  {
   "cell_type": "code",
   "execution_count": 5,
   "id": "26e94559",
   "metadata": {
    "execution": {
     "iopub.execute_input": "2024-11-25T11:51:27.333355Z",
     "iopub.status.busy": "2024-11-25T11:51:27.332921Z",
     "iopub.status.idle": "2024-11-25T11:51:27.700609Z",
     "shell.execute_reply": "2024-11-25T11:51:27.699472Z"
    },
    "papermill": {
     "duration": 0.377695,
     "end_time": "2024-11-25T11:51:27.702873",
     "exception": false,
     "start_time": "2024-11-25T11:51:27.325178",
     "status": "completed"
    },
    "tags": []
   },
   "outputs": [
    {
     "data": {
      "image/png": "[encoded data removed]",
      "text/plain": [
       "<Figure size 1200x800 with 1 Axes>"
      ]
     },
     "metadata": {},
     "output_type": "display_data"
    }
   ],
   "source": [
    "custom_palette = ['#DC5CB5', '#F490C5', '#9B8BFA', '#5CBEE3']  \n",
    "\n",
    "plt.figure(figsize=(12,8))\n",
    "sns.countplot(x='Stunting', data=df, palette=custom_palette)\n",
    "plt.title('Dsitribusi Kelas Stunting', fontsize=16, fontweight='bold')\n",
    "plt.xlabel('Kategori Stunting', fontsize=12)\n",
    "plt.ylabel('Jumlah Data', fontsize=12)\n",
    "plt.show()"
   ]
  },
  {
   "cell_type": "code",
   "execution_count": 6,
   "id": "ced6d8e2",
   "metadata": {
    "execution": {
     "iopub.execute_input": "2024-11-25T11:51:27.717525Z",
     "iopub.status.busy": "2024-11-25T11:51:27.716978Z",
     "iopub.status.idle": "2024-11-25T11:51:28.027060Z",
     "shell.execute_reply": "2024-11-25T11:51:28.025864Z"
    },
    "papermill": {
     "duration": 0.319965,
     "end_time": "2024-11-25T11:51:28.029224",
     "exception": false,
     "start_time": "2024-11-25T11:51:27.709259",
     "status": "completed"
    },
    "tags": []
   },
   "outputs": [
    {
     "data": {
      "image/png": "[encoded data removed]",
      "text/plain": [
       "<Figure size 1200x800 with 1 Axes>"
      ]
     },
     "metadata": {},
     "output_type": "display_data"
    }
   ],
   "source": [
    "custom_palette = ['#DC5CB5', '#F490C5', '#9B8BFA', '#5CBEE3']  \n",
    "\n",
    "plt.figure(figsize=(12,8))\n",
    "sns.countplot(x='Wasting', data=df, palette=custom_palette)\n",
    "plt.title('Dsitribusi Kelas Wasting', fontsize=16, fontweight='bold')\n",
    "plt.xlabel('Kategori Wasting', fontsize=12)\n",
    "plt.ylabel('Jumlah Data', fontsize=12)\n",
    "plt.show()"
   ]
  },
  {
   "cell_type": "markdown",
   "id": "aba4f46d",
   "metadata": {
    "papermill": {
     "duration": 0.006292,
     "end_time": "2024-11-25T11:51:28.042145",
     "exception": false,
     "start_time": "2024-11-25T11:51:28.035853",
     "status": "completed"
    },
    "tags": []
   },
   "source": [
    "# Data Preprocessing\n",
    "\n",
    "### Membersihkan dan mempersiapkan data untuk analisis.\n",
    "\n",
    "- Mengonversi data kategorikal ke numerik menggunakan LabelEncoder.\n",
    "- Normalisasi data numerik menggunakan StandardScaler untuk memastikan semua fitur berada pada skala yang sama.\n",
    "- Menampilkan nilai rata-rata (mean) dan skala (std) setelah normalisasi."
   ]
  },
  {
   "cell_type": "code",
   "execution_count": 7,
   "id": "52be89e3",
   "metadata": {
    "execution": {
     "iopub.execute_input": "2024-11-25T11:51:28.057638Z",
     "iopub.status.busy": "2024-11-25T11:51:28.056833Z",
     "iopub.status.idle": "2024-11-25T11:51:28.117027Z",
     "shell.execute_reply": "2024-11-25T11:51:28.115967Z"
    },
    "papermill": {
     "duration": 0.07064,
     "end_time": "2024-11-25T11:51:28.119408",
     "exception": false,
     "start_time": "2024-11-25T11:51:28.048768",
     "status": "completed"
    },
    "tags": []
   },
   "outputs": [],
   "source": [
    "label_encoder_stunting = LabelEncoder()\n",
    "df['Stunting'] = label_encoder_stunting.fit_transform(df['Stunting'])\n",
    "\n",
    "label_encoder_wasting = LabelEncoder()\n",
    "df['Wasting'] = label_encoder_wasting.fit_transform(df['Wasting'])\n",
    "\n",
    "label_encoder_gender = LabelEncoder()\n",
    "df['Jenis Kelamin'] = label_encoder_gender.fit_transform(df['Jenis Kelamin'])"
   ]
  },
  {
   "cell_type": "code",
   "execution_count": 8,
   "id": "9fe932dc",
   "metadata": {
    "execution": {
     "iopub.execute_input": "2024-11-25T11:51:28.134574Z",
     "iopub.status.busy": "2024-11-25T11:51:28.134199Z",
     "iopub.status.idle": "2024-11-25T11:51:28.146503Z",
     "shell.execute_reply": "2024-11-25T11:51:28.145093Z"
    },
    "papermill": {
     "duration": 0.022525,
     "end_time": "2024-11-25T11:51:28.148905",
     "exception": false,
     "start_time": "2024-11-25T11:51:28.126380",
     "status": "completed"
    },
    "tags": []
   },
   "outputs": [],
   "source": [
    "X = df[['Jenis Kelamin', 'Umur (bulan)', 'Tinggi Badan (cm)', 'Berat Badan (kg)']].values\n",
    "y_stunting = df['Stunting'].values\n",
    "y_wasting = df['Wasting'].values"
   ]
  },
  {
   "cell_type": "code",
   "execution_count": 9,
   "id": "7e515a91",
   "metadata": {
    "execution": {
     "iopub.execute_input": "2024-11-25T11:51:28.164307Z",
     "iopub.status.busy": "2024-11-25T11:51:28.163414Z",
     "iopub.status.idle": "2024-11-25T11:51:28.173314Z",
     "shell.execute_reply": "2024-11-25T11:51:28.172398Z"
    },
    "papermill": {
     "duration": 0.020172,
     "end_time": "2024-11-25T11:51:28.175671",
     "exception": false,
     "start_time": "2024-11-25T11:51:28.155499",
     "status": "completed"
    },
    "tags": []
   },
   "outputs": [],
   "source": [
    "scaler = StandardScaler()\n",
    "X_scaled = scaler.fit_transform(X)"
   ]
  },
  {
   "cell_type": "code",
   "execution_count": 10,
   "id": "d768e97f",
   "metadata": {
    "execution": {
     "iopub.execute_input": "2024-11-25T11:51:28.190312Z",
     "iopub.status.busy": "2024-11-25T11:51:28.189911Z",
     "iopub.status.idle": "2024-11-25T11:51:28.196242Z",
     "shell.execute_reply": "2024-11-25T11:51:28.195096Z"
    },
    "papermill": {
     "duration": 0.016001,
     "end_time": "2024-11-25T11:51:28.198250",
     "exception": false,
     "start_time": "2024-11-25T11:51:28.182249",
     "status": "completed"
    },
    "tags": []
   },
   "outputs": [
    {
     "name": "stdout",
     "output_type": "stream",
     "text": [
      "Mean: [ 0.49821  11.99258  73.132657  9.259256]\n",
      "Std (scale): [ 0.4999968   7.19963506 11.36078884  3.30076366]\n"
     ]
    }
   ],
   "source": [
    "# Mendapatkan mean dan scale\n",
    "mean = scaler.mean_\n",
    "std = scaler.scale_\n",
    "\n",
    "print(\"Mean:\", mean)\n",
    "print(\"Std (scale):\", std)"
   ]
  },
  {
   "cell_type": "markdown",
   "id": "4f3225ac",
   "metadata": {
    "papermill": {
     "duration": 0.006456,
     "end_time": "2024-11-25T11:51:28.211285",
     "exception": false,
     "start_time": "2024-11-25T11:51:28.204829",
     "status": "completed"
    },
    "tags": []
   },
   "source": [
    "# Train-Test Split\n",
    "\n",
    "### Membagi data menjadi data latih dan data uji.\n",
    "\n",
    "- Membagi data dalam proporsi 80:20 menggunakan `train_test_split`, Ini penting untuk mengukur performa model pada data yang belum pernah.\n",
    "- Memastikan data latih dan data uji memiliki proporsi yang pas untuk setiap kelas."
   ]
  },
  {
   "cell_type": "code",
   "execution_count": 11,
   "id": "84e55dce",
   "metadata": {
    "execution": {
     "iopub.execute_input": "2024-11-25T11:51:28.226999Z",
     "iopub.status.busy": "2024-11-25T11:51:28.226600Z",
     "iopub.status.idle": "2024-11-25T11:51:28.248684Z",
     "shell.execute_reply": "2024-11-25T11:51:28.247548Z"
    },
    "papermill": {
     "duration": 0.032978,
     "end_time": "2024-11-25T11:51:28.251012",
     "exception": false,
     "start_time": "2024-11-25T11:51:28.218034",
     "status": "completed"
    },
    "tags": []
   },
   "outputs": [
    {
     "data": {
      "text/plain": [
       "(array([[ 1.00358643e+00, -1.38792868e+00, -1.86894214e+00,\n",
       "         -1.62364124e+00],\n",
       "        [ 1.00358643e+00,  1.39926537e-01,  1.02751932e-01,\n",
       "          4.36488083e-01],\n",
       "        [ 1.00358643e+00,  6.95510253e-01,  1.19422544e+00,\n",
       "          1.58773682e+00],\n",
       "        ...,\n",
       "        [-9.96426385e-01,  1.03060779e-03,  7.80521769e-01,\n",
       "          2.85007985e-01],\n",
       "        [-9.96426385e-01, -1.37865321e-01,  2.61191634e-01,\n",
       "         -1.01772085e+00],\n",
       "        [ 1.00358643e+00,  1.38998990e+00,  9.56565882e-01,\n",
       "         -1.39136287e-01]]),\n",
       " array([[ 1.00358643e+00, -1.52682461e+00, -1.63128259e+00,\n",
       "         -6.84464637e-01],\n",
       "        [ 1.00358643e+00, -5.54553108e-01, -6.27831139e-01,\n",
       "          8.90928374e-01],\n",
       "        [-9.96426385e-01,  1.11219804e+00,  1.48469822e+00,\n",
       "          4.97080121e-01],\n",
       "        ...,\n",
       "        [ 1.00358643e+00, -5.54553108e-01, -9.88721572e-01,\n",
       "         -3.81504443e-01],\n",
       "        [ 1.00358643e+00,  1.03060779e-03,  1.55565166e-01,\n",
       "         -1.16920095e+00],\n",
       "        [ 1.00358643e+00,  1.03060779e-03,  4.11364921e-02,\n",
       "          1.40596071e+00]]),\n",
       " array([2, 0, 0, ..., 0, 0, 0]),\n",
       " array([0, 0, 0, ..., 2, 0, 0]),\n",
       " array([0, 1, 1, ..., 0, 2, 3]),\n",
       " array([1, 1, 0, ..., 0, 2, 1]))"
      ]
     },
     "execution_count": 11,
     "metadata": {},
     "output_type": "execute_result"
    }
   ],
   "source": [
    "X_train, X_test, y_train_stunting, y_test_stunting, y_train_wasting, y_test_wasting = train_test_split(\n",
    "    X_scaled, y_stunting, y_wasting, test_size=0.2, random_state=42\n",
    ")\n",
    "\n",
    "X_train, X_test, y_train_stunting, y_test_stunting, y_train_wasting, y_test_wasting"
   ]
  },
  {
   "cell_type": "code",
   "execution_count": 12,
   "id": "00aa7038",
   "metadata": {
    "execution": {
     "iopub.execute_input": "2024-11-25T11:51:28.266961Z",
     "iopub.status.busy": "2024-11-25T11:51:28.266579Z",
     "iopub.status.idle": "2024-11-25T11:51:28.274032Z",
     "shell.execute_reply": "2024-11-25T11:51:28.272915Z"
    },
    "papermill": {
     "duration": 0.018268,
     "end_time": "2024-11-25T11:51:28.276672",
     "exception": false,
     "start_time": "2024-11-25T11:51:28.258404",
     "status": "completed"
    },
    "tags": []
   },
   "outputs": [
    {
     "data": {
      "text/plain": [
       "((80000, 4), (20000, 4), (80000,), (20000,), (80000,), (20000,))"
      ]
     },
     "execution_count": 12,
     "metadata": {},
     "output_type": "execute_result"
    }
   ],
   "source": [
    "X_train.shape, X_test.shape, y_train_stunting.shape, y_test_stunting.shape, y_train_wasting.shape, y_test_wasting.shape"
   ]
  },
  {
   "cell_type": "markdown",
   "id": "0b3df080",
   "metadata": {
    "papermill": {
     "duration": 0.007516,
     "end_time": "2024-11-25T11:51:28.292908",
     "exception": false,
     "start_time": "2024-11-25T11:51:28.285392",
     "status": "completed"
    },
    "tags": []
   },
   "source": [
    "# Model Training\n",
    "\n",
    "### Membangun dan melatih model machine learning.\n",
    "\n",
    "- **Arsitektur Model**:\n",
    "  - Input layer menerima data dengan jumlah fitur tertentu.\n",
    "  - Hidden layers terdiri dari beberapa lapisan dengan aktivasi ReLU.\n",
    "  - Output layers menggunakan aktivasi softmax untuk klasifikasi.\n",
    "- **Kompilasi Model**:\n",
    "  - Optimizer: Adam\n",
    "  - Loss function: `sparse_categorical_crossentropy` untuk setiap keluaran (Stunting dan Wasting).\n",
    "  - Metrics: Akurasi (accuracy).\n",
    "  - Menampilkan ringkasan model dengan `.summary()` untuk memvalidasi struktur.\n",
    "\n",
    "Serta melatih model selama beberapa epoch dengan `model.fit`."
   ]
  },
  {
   "cell_type": "code",
   "execution_count": 13,
   "id": "e16a2e07",
   "metadata": {
    "execution": {
     "iopub.execute_input": "2024-11-25T11:51:28.308440Z",
     "iopub.status.busy": "2024-11-25T11:51:28.308013Z",
     "iopub.status.idle": "2024-11-25T11:51:28.414023Z",
     "shell.execute_reply": "2024-11-25T11:51:28.412766Z"
    },
    "papermill": {
     "duration": 0.116657,
     "end_time": "2024-11-25T11:51:28.416444",
     "exception": false,
     "start_time": "2024-11-25T11:51:28.299787",
     "status": "completed"
    },
    "tags": []
   },
   "outputs": [],
   "source": [
    "input_layer = layers.Input(shape=(X_train.shape[1],))\n",
    "\n",
    "x = layers.Dense(64, activation='relu')(input_layer)\n",
    "x = layers.Dense(32, activation='relu')(x)\n",
    "x = layers.Dense(16, activation='relu')(x)\n",
    "\n",
    "stunting_output = layers.Dense(len(label_encoder_stunting.classes_), activation='softmax', name='stunting_output')(x)\n",
    "wasting_output = layers.Dense(len(label_encoder_wasting.classes_), activation='softmax', name='wasting_output')(x)\n",
    "\n",
    "model = models.Model(inputs=input_layer, outputs=[stunting_output, wasting_output])"
   ]
  },
  {
   "cell_type": "code",
   "execution_count": 14,
   "id": "62b96097",
   "metadata": {
    "execution": {
     "iopub.execute_input": "2024-11-25T11:51:28.432679Z",
     "iopub.status.busy": "2024-11-25T11:51:28.432264Z",
     "iopub.status.idle": "2024-11-25T11:51:28.448895Z",
     "shell.execute_reply": "2024-11-25T11:51:28.447562Z"
    },
    "papermill": {
     "duration": 0.027653,
     "end_time": "2024-11-25T11:51:28.451415",
     "exception": false,
     "start_time": "2024-11-25T11:51:28.423762",
     "status": "completed"
    },
    "tags": []
   },
   "outputs": [],
   "source": [
    "model.compile(optimizer='adam', \n",
    "              loss={'stunting_output': 'sparse_categorical_crossentropy', \n",
    "                    'wasting_output': 'sparse_categorical_crossentropy'},\n",
    "              metrics={'stunting_output': ['accuracy'], \n",
    "                       'wasting_output': ['accuracy']})"
   ]
  },
  {
   "cell_type": "code",
   "execution_count": 15,
   "id": "b4d372f2",
   "metadata": {
    "execution": {
     "iopub.execute_input": "2024-11-25T11:51:28.466746Z",
     "iopub.status.busy": "2024-11-25T11:51:28.466382Z",
     "iopub.status.idle": "2024-11-25T11:51:28.489329Z",
     "shell.execute_reply": "2024-11-25T11:51:28.488200Z"
    },
    "papermill": {
     "duration": 0.033097,
     "end_time": "2024-11-25T11:51:28.491420",
     "exception": false,
     "start_time": "2024-11-25T11:51:28.458323",
     "status": "completed"
    },
    "tags": []
   },
   "outputs": [
    {
     "data": {
      "text/html": [
       "<pre style=\"white-space:pre;overflow-x:auto;line-height:normal;font-family:Menlo,'DejaVu Sans Mono',consolas,'Courier New',monospace\"><span style=\"font-weight: bold\">Model: \"functional_1\"</span>\n",
       "</pre>\n"
      ],
      "text/plain": [
       "\u001b[1mModel: \"functional_1\"\u001b[0m\n"
      ]
     },
     "metadata": {},
     "output_type": "display_data"
    },
    {
     "data": {
      "text/html": [
       "<pre style=\"white-space:pre;overflow-x:auto;line-height:normal;font-family:Menlo,'DejaVu Sans Mono',consolas,'Courier New',monospace\">┏━━━━━━━━━━━━━━━━━━━━━┳━━━━━━━━━━━━━━━━━━━┳━━━━━━━━━━━━┳━━━━━━━━━━━━━━━━━━━┓\n",
       "┃<span style=\"font-weight: bold\"> Layer (type)        </span>┃<span style=\"font-weight: bold\"> Output Shape      </span>┃<span style=\"font-weight: bold\">    Param # </span>┃<span style=\"font-weight: bold\"> Connected to      </span>┃\n",
       "┡━━━━━━━━━━━━━━━━━━━━━╇━━━━━━━━━━━━━━━━━━━╇━━━━━━━━━━━━╇━━━━━━━━━━━━━━━━━━━┩\n",
       "│ input_layer         │ (<span style=\"color: #00d7ff; text-decoration-color: #00d7ff\">None</span>, <span style=\"color: #00af00; text-decoration-color: #00af00\">4</span>)         │          <span style=\"color: #00af00; text-decoration-color: #00af00\">0</span> │ -                 │\n",
       "│ (<span style=\"color: #0087ff; text-decoration-color: #0087ff\">InputLayer</span>)        │                   │            │                   │\n",
       "├─────────────────────┼───────────────────┼────────────┼───────────────────┤\n",
       "│ dense (<span style=\"color: #0087ff; text-decoration-color: #0087ff\">Dense</span>)       │ (<span style=\"color: #00d7ff; text-decoration-color: #00d7ff\">None</span>, <span style=\"color: #00af00; text-decoration-color: #00af00\">64</span>)        │        <span style=\"color: #00af00; text-decoration-color: #00af00\">320</span> │ input_layer[<span style=\"color: #00af00; text-decoration-color: #00af00\">0</span>][<span style=\"color: #00af00; text-decoration-color: #00af00\">0</span>] │\n",
       "├─────────────────────┼───────────────────┼────────────┼───────────────────┤\n",
       "│ dense_1 (<span style=\"color: #0087ff; text-decoration-color: #0087ff\">Dense</span>)     │ (<span style=\"color: #00d7ff; text-decoration-color: #00d7ff\">None</span>, <span style=\"color: #00af00; text-decoration-color: #00af00\">32</span>)        │      <span style=\"color: #00af00; text-decoration-color: #00af00\">2,080</span> │ dense[<span style=\"color: #00af00; text-decoration-color: #00af00\">0</span>][<span style=\"color: #00af00; text-decoration-color: #00af00\">0</span>]       │\n",
       "├─────────────────────┼───────────────────┼────────────┼───────────────────┤\n",
       "│ dense_2 (<span style=\"color: #0087ff; text-decoration-color: #0087ff\">Dense</span>)     │ (<span style=\"color: #00d7ff; text-decoration-color: #00d7ff\">None</span>, <span style=\"color: #00af00; text-decoration-color: #00af00\">16</span>)        │        <span style=\"color: #00af00; text-decoration-color: #00af00\">528</span> │ dense_1[<span style=\"color: #00af00; text-decoration-color: #00af00\">0</span>][<span style=\"color: #00af00; text-decoration-color: #00af00\">0</span>]     │\n",
       "├─────────────────────┼───────────────────┼────────────┼───────────────────┤\n",
       "│ stunting_output     │ (<span style=\"color: #00d7ff; text-decoration-color: #00d7ff\">None</span>, <span style=\"color: #00af00; text-decoration-color: #00af00\">4</span>)         │         <span style=\"color: #00af00; text-decoration-color: #00af00\">68</span> │ dense_2[<span style=\"color: #00af00; text-decoration-color: #00af00\">0</span>][<span style=\"color: #00af00; text-decoration-color: #00af00\">0</span>]     │\n",
       "│ (<span style=\"color: #0087ff; text-decoration-color: #0087ff\">Dense</span>)             │                   │            │                   │\n",
       "├─────────────────────┼───────────────────┼────────────┼───────────────────┤\n",
       "│ wasting_output      │ (<span style=\"color: #00d7ff; text-decoration-color: #00d7ff\">None</span>, <span style=\"color: #00af00; text-decoration-color: #00af00\">4</span>)         │         <span style=\"color: #00af00; text-decoration-color: #00af00\">68</span> │ dense_2[<span style=\"color: #00af00; text-decoration-color: #00af00\">0</span>][<span style=\"color: #00af00; text-decoration-color: #00af00\">0</span>]     │\n",
       "│ (<span style=\"color: #0087ff; text-decoration-color: #0087ff\">Dense</span>)             │                   │            │                   │\n",
       "└─────────────────────┴───────────────────┴────────────┴───────────────────┘\n",
       "</pre>\n"
      ],
      "text/plain": [
       "┏━━━━━━━━━━━━━━━━━━━━━┳━━━━━━━━━━━━━━━━━━━┳━━━━━━━━━━━━┳━━━━━━━━━━━━━━━━━━━┓\n",
       "┃\u001b[1m \u001b[0m\u001b[1mLayer (type)       \u001b[0m\u001b[1m \u001b[0m┃\u001b[1m \u001b[0m\u001b[1mOutput Shape     \u001b[0m\u001b[1m \u001b[0m┃\u001b[1m \u001b[0m\u001b[1m   Param #\u001b[0m\u001b[1m \u001b[0m┃\u001b[1m \u001b[0m\u001b[1mConnected to     \u001b[0m\u001b[1m \u001b[0m┃\n",
       "┡━━━━━━━━━━━━━━━━━━━━━╇━━━━━━━━━━━━━━━━━━━╇━━━━━━━━━━━━╇━━━━━━━━━━━━━━━━━━━┩\n",
       "│ input_layer         │ (\u001b[38;5;45mNone\u001b[0m, \u001b[38;5;34m4\u001b[0m)         │          \u001b[38;5;34m0\u001b[0m │ -                 │\n",
       "│ (\u001b[38;5;33mInputLayer\u001b[0m)        │                   │            │                   │\n",
       "├─────────────────────┼───────────────────┼────────────┼───────────────────┤\n",
       "│ dense (\u001b[38;5;33mDense\u001b[0m)       │ (\u001b[38;5;45mNone\u001b[0m, \u001b[38;5;34m64\u001b[0m)        │        \u001b[38;5;34m320\u001b[0m │ input_layer[\u001b[38;5;34m0\u001b[0m][\u001b[38;5;34m0\u001b[0m] │\n",
       "├─────────────────────┼───────────────────┼────────────┼───────────────────┤\n",
       "│ dense_1 (\u001b[38;5;33mDense\u001b[0m)     │ (\u001b[38;5;45mNone\u001b[0m, \u001b[38;5;34m32\u001b[0m)        │      \u001b[38;5;34m2,080\u001b[0m │ dense[\u001b[38;5;34m0\u001b[0m][\u001b[38;5;34m0\u001b[0m]       │\n",
       "├─────────────────────┼───────────────────┼────────────┼───────────────────┤\n",
       "│ dense_2 (\u001b[38;5;33mDense\u001b[0m)     │ (\u001b[38;5;45mNone\u001b[0m, \u001b[38;5;34m16\u001b[0m)        │        \u001b[38;5;34m528\u001b[0m │ dense_1[\u001b[38;5;34m0\u001b[0m][\u001b[38;5;34m0\u001b[0m]     │\n",
       "├─────────────────────┼───────────────────┼────────────┼───────────────────┤\n",
       "│ stunting_output     │ (\u001b[38;5;45mNone\u001b[0m, \u001b[38;5;34m4\u001b[0m)         │         \u001b[38;5;34m68\u001b[0m │ dense_2[\u001b[38;5;34m0\u001b[0m][\u001b[38;5;34m0\u001b[0m]     │\n",
       "│ (\u001b[38;5;33mDense\u001b[0m)             │                   │            │                   │\n",
       "├─────────────────────┼───────────────────┼────────────┼───────────────────┤\n",
       "│ wasting_output      │ (\u001b[38;5;45mNone\u001b[0m, \u001b[38;5;34m4\u001b[0m)         │         \u001b[38;5;34m68\u001b[0m │ dense_2[\u001b[38;5;34m0\u001b[0m][\u001b[38;5;34m0\u001b[0m]     │\n",
       "│ (\u001b[38;5;33mDense\u001b[0m)             │                   │            │                   │\n",
       "└─────────────────────┴───────────────────┴────────────┴───────────────────┘\n"
      ]
     },
     "metadata": {},
     "output_type": "display_data"
    },
    {
     "data": {
      "text/html": [
       "<pre style=\"white-space:pre;overflow-x:auto;line-height:normal;font-family:Menlo,'DejaVu Sans Mono',consolas,'Courier New',monospace\"><span style=\"font-weight: bold\"> Total params: </span><span style=\"color: #00af00; text-decoration-color: #00af00\">3,064</span> (11.97 KB)\n",
       "</pre>\n"
      ],
      "text/plain": [
       "\u001b[1m Total params: \u001b[0m\u001b[38;5;34m3,064\u001b[0m (11.97 KB)\n"
      ]
     },
     "metadata": {},
     "output_type": "display_data"
    },
    {
     "data": {
      "text/html": [
       "<pre style=\"white-space:pre;overflow-x:auto;line-height:normal;font-family:Menlo,'DejaVu Sans Mono',consolas,'Courier New',monospace\"><span style=\"font-weight: bold\"> Trainable params: </span><span style=\"color: #00af00; text-decoration-color: #00af00\">3,064</span> (11.97 KB)\n",
       "</pre>\n"
      ],
      "text/plain": [
       "\u001b[1m Trainable params: \u001b[0m\u001b[38;5;34m3,064\u001b[0m (11.97 KB)\n"
      ]
     },
     "metadata": {},
     "output_type": "display_data"
    },
    {
     "data": {
      "text/html": [
       "<pre style=\"white-space:pre;overflow-x:auto;line-height:normal;font-family:Menlo,'DejaVu Sans Mono',consolas,'Courier New',monospace\"><span style=\"font-weight: bold\"> Non-trainable params: </span><span style=\"color: #00af00; text-decoration-color: #00af00\">0</span> (0.00 B)\n",
       "</pre>\n"
      ],
      "text/plain": [
       "\u001b[1m Non-trainable params: \u001b[0m\u001b[38;5;34m0\u001b[0m (0.00 B)\n"
      ]
     },
     "metadata": {},
     "output_type": "display_data"
    }
   ],
   "source": [
    "model.summary()"
   ]
  },
  {
   "cell_type": "code",
   "execution_count": 16,
   "id": "d7a50945",
   "metadata": {
    "execution": {
     "iopub.execute_input": "2024-11-25T11:51:28.509305Z",
     "iopub.status.busy": "2024-11-25T11:51:28.508895Z",
     "iopub.status.idle": "2024-11-25T11:52:13.555389Z",
     "shell.execute_reply": "2024-11-25T11:52:13.554370Z"
    },
    "papermill": {
     "duration": 45.057911,
     "end_time": "2024-11-25T11:52:13.557603",
     "exception": false,
     "start_time": "2024-11-25T11:51:28.499692",
     "status": "completed"
    },
    "scrolled": true,
    "tags": []
   },
   "outputs": [
    {
     "name": "stdout",
     "output_type": "stream",
     "text": [
      "Epoch 1/10\n",
      "\u001b[1m2500/2500\u001b[0m \u001b[32m━━━━━━━━━━━━━━━━━━━━\u001b[0m\u001b[37m\u001b[0m \u001b[1m6s\u001b[0m 2ms/step - loss: 0.9574 - stunting_output_accuracy: 0.7811 - wasting_output_accuracy: 0.8294 - val_loss: 0.2805 - val_stunting_output_accuracy: 0.9340 - val_wasting_output_accuracy: 0.9645\n",
      "Epoch 2/10\n",
      "\u001b[1m2500/2500\u001b[0m \u001b[32m━━━━━━━━━━━━━━━━━━━━\u001b[0m\u001b[37m\u001b[0m \u001b[1m4s\u001b[0m 2ms/step - loss: 0.2601 - stunting_output_accuracy: 0.9336 - wasting_output_accuracy: 0.9665 - val_loss: 0.2117 - val_stunting_output_accuracy: 0.9448 - val_wasting_output_accuracy: 0.9681\n",
      "Epoch 3/10\n",
      "\u001b[1m2500/2500\u001b[0m \u001b[32m━━━━━━━━━━━━━━━━━━━━\u001b[0m\u001b[37m\u001b[0m \u001b[1m4s\u001b[0m 2ms/step - loss: 0.1997 - stunting_output_accuracy: 0.9458 - wasting_output_accuracy: 0.9735 - val_loss: 0.1681 - val_stunting_output_accuracy: 0.9506 - val_wasting_output_accuracy: 0.9835\n",
      "Epoch 4/10\n",
      "\u001b[1m2500/2500\u001b[0m \u001b[32m━━━━━━━━━━━━━━━━━━━━\u001b[0m\u001b[37m\u001b[0m \u001b[1m4s\u001b[0m 2ms/step - loss: 0.1747 - stunting_output_accuracy: 0.9534 - wasting_output_accuracy: 0.9761 - val_loss: 0.1536 - val_stunting_output_accuracy: 0.9603 - val_wasting_output_accuracy: 0.9766\n",
      "Epoch 5/10\n",
      "\u001b[1m2500/2500\u001b[0m \u001b[32m━━━━━━━━━━━━━━━━━━━━\u001b[0m\u001b[37m\u001b[0m \u001b[1m4s\u001b[0m 2ms/step - loss: 0.1587 - stunting_output_accuracy: 0.9562 - wasting_output_accuracy: 0.9782 - val_loss: 0.1715 - val_stunting_output_accuracy: 0.9560 - val_wasting_output_accuracy: 0.9692\n",
      "Epoch 6/10\n",
      "\u001b[1m2500/2500\u001b[0m \u001b[32m━━━━━━━━━━━━━━━━━━━━\u001b[0m\u001b[37m\u001b[0m \u001b[1m4s\u001b[0m 2ms/step - loss: 0.1545 - stunting_output_accuracy: 0.9592 - wasting_output_accuracy: 0.9783 - val_loss: 0.1343 - val_stunting_output_accuracy: 0.9607 - val_wasting_output_accuracy: 0.9855\n",
      "Epoch 7/10\n",
      "\u001b[1m2500/2500\u001b[0m \u001b[32m━━━━━━━━━━━━━━━━━━━━\u001b[0m\u001b[37m\u001b[0m \u001b[1m4s\u001b[0m 2ms/step - loss: 0.1437 - stunting_output_accuracy: 0.9595 - wasting_output_accuracy: 0.9801 - val_loss: 0.1779 - val_stunting_output_accuracy: 0.9413 - val_wasting_output_accuracy: 0.9758\n",
      "Epoch 8/10\n",
      "\u001b[1m2500/2500\u001b[0m \u001b[32m━━━━━━━━━━━━━━━━━━━━\u001b[0m\u001b[37m\u001b[0m \u001b[1m5s\u001b[0m 2ms/step - loss: 0.1397 - stunting_output_accuracy: 0.9616 - wasting_output_accuracy: 0.9800 - val_loss: 0.1365 - val_stunting_output_accuracy: 0.9630 - val_wasting_output_accuracy: 0.9793\n",
      "Epoch 9/10\n",
      "\u001b[1m2500/2500\u001b[0m \u001b[32m━━━━━━━━━━━━━━━━━━━━\u001b[0m\u001b[37m\u001b[0m \u001b[1m4s\u001b[0m 2ms/step - loss: 0.1314 - stunting_output_accuracy: 0.9632 - wasting_output_accuracy: 0.9814 - val_loss: 0.1374 - val_stunting_output_accuracy: 0.9581 - val_wasting_output_accuracy: 0.9821\n",
      "Epoch 10/10\n",
      "\u001b[1m2500/2500\u001b[0m \u001b[32m━━━━━━━━━━━━━━━━━━━━\u001b[0m\u001b[37m\u001b[0m \u001b[1m4s\u001b[0m 2ms/step - loss: 0.1284 - stunting_output_accuracy: 0.9641 - wasting_output_accuracy: 0.9823 - val_loss: 0.1635 - val_stunting_output_accuracy: 0.9653 - val_wasting_output_accuracy: 0.9618\n"
     ]
    },
    {
     "data": {
      "text/plain": [
       "<keras.src.callbacks.history.History at 0x7a015fc81600>"
      ]
     },
     "execution_count": 16,
     "metadata": {},
     "output_type": "execute_result"
    }
   ],
   "source": [
    "model.fit(X_train, {'stunting_output': y_train_stunting, 'wasting_output': y_train_wasting},\n",
    "          epochs=10, batch_size=32, validation_data=(X_test, {'stunting_output': y_test_stunting, 'wasting_output': y_test_wasting}))"
   ]
  },
  {
   "cell_type": "markdown",
   "id": "a63b4d38",
   "metadata": {
    "papermill": {
     "duration": 0.047083,
     "end_time": "2024-11-25T11:52:13.651989",
     "exception": false,
     "start_time": "2024-11-25T11:52:13.604906",
     "status": "completed"
    },
    "tags": []
   },
   "source": [
    "# Model Evaluation\n",
    "\n",
    "### Mengevaluasi performa model pada data uji.\n",
    "\n",
    "- Pada tahap ini di lakukan visualisasi metrik performa seperti akurasi dan loss selama pelatihan menggunakan grafik.\n",
    "- Memberikan input baru ke model yang sudah dilatih."
   ]
  },
  {
   "cell_type": "code",
   "execution_count": 17,
   "id": "af2bc672",
   "metadata": {
    "execution": {
     "iopub.execute_input": "2024-11-25T11:52:13.747307Z",
     "iopub.status.busy": "2024-11-25T11:52:13.746913Z",
     "iopub.status.idle": "2024-11-25T11:52:14.339201Z",
     "shell.execute_reply": "2024-11-25T11:52:14.338025Z"
    },
    "papermill": {
     "duration": 0.642974,
     "end_time": "2024-11-25T11:52:14.341753",
     "exception": false,
     "start_time": "2024-11-25T11:52:13.698779",
     "status": "completed"
    },
    "tags": []
   },
   "outputs": [
    {
     "data": {
      "image/png": "[encoded data removed]",
      "text/plain": [
       "<Figure size 1400x600 with 2 Axes>"
      ]
     },
     "metadata": {},
     "output_type": "display_data"
    }
   ],
   "source": [
    "history = model.history.history\n",
    "plt.figure(figsize=(14, 6))\n",
    "\n",
    "# Plot 1: Stunting Accuracy\n",
    "plt.subplot(1, 2, 1)\n",
    "plt.plot(history['stunting_output_accuracy'], label='Training Accuracy', color='#DC5CB5', linewidth=2)\n",
    "plt.plot(history['val_stunting_output_accuracy'], label='Validation Accuracy', color='#9B8BFA', linestyle='--', linewidth=2)\n",
    "plt.title('Stunting Accuracy', fontsize=16, fontweight='bold')\n",
    "plt.xlabel('Epoch', fontsize=12)\n",
    "plt.ylabel('Accuracy', fontsize=12)\n",
    "plt.grid(True, linestyle='--', alpha=0.6)\n",
    "plt.legend(loc='lower right', fontsize=10)\n",
    "plt.ylim(0, 1.05)\n",
    "\n",
    "# Plot 2: Wasting Accuracy\n",
    "plt.subplot(1, 2, 2)\n",
    "plt.plot(history['wasting_output_accuracy'], label='Training Accuracy', color='#F490C5', linewidth=2)\n",
    "plt.plot(history['val_wasting_output_accuracy'], label='Validation Accuracy', color='#5CBEE3', linestyle='--', linewidth=2)\n",
    "plt.title('Wasting Accuracy', fontsize=16, fontweight='bold')\n",
    "plt.xlabel('Epoch', fontsize=12)\n",
    "plt.ylabel('Accuracy', fontsize=12)\n",
    "plt.grid(True, linestyle='--', alpha=0.6)\n",
    "plt.legend(loc='lower right', fontsize=10)\n",
    "plt.ylim(0, 1.05)\n",
    "\n",
    "plt.suptitle('Model Training Accuracy for Stunting and Wasting', fontsize=18, fontweight='bold')\n",
    "plt.tight_layout(rect=[0, 0, 1, 0.95])\n",
    "\n",
    "plt.show()\n"
   ]
  },
  {
   "cell_type": "code",
   "execution_count": 18,
   "id": "6eaa0476",
   "metadata": {
    "execution": {
     "iopub.execute_input": "2024-11-25T11:52:14.441380Z",
     "iopub.status.busy": "2024-11-25T11:52:14.440965Z",
     "iopub.status.idle": "2024-11-25T11:52:14.570817Z",
     "shell.execute_reply": "2024-11-25T11:52:14.569508Z"
    },
    "papermill": {
     "duration": 0.183303,
     "end_time": "2024-11-25T11:52:14.573363",
     "exception": false,
     "start_time": "2024-11-25T11:52:14.390060",
     "status": "completed"
    },
    "tags": []
   },
   "outputs": [
    {
     "name": "stdout",
     "output_type": "stream",
     "text": [
      "\u001b[1m1/1\u001b[0m \u001b[32m━━━━━━━━━━━━━━━━━━━━\u001b[0m\u001b[37m\u001b[0m \u001b[1m0s\u001b[0m 69ms/step\n",
      "Prediksi Stunting: Stunted\n",
      "Prediksi Wasting: Normal\n"
     ]
    }
   ],
   "source": [
    "new_data = np.array([[0, 12, 69, 9]]) #Gender, Umur(bulan), Tinggi, Berat\n",
    "#Wasting = Normal, Stunting = Stunted\n",
    "\n",
    "new_data_scaled = scaler.transform(new_data)\n",
    "\n",
    "stunting_pred, wasting_pred = model.predict(new_data_scaled)\n",
    "\n",
    "gender = new_data[0][0]  \n",
    "\n",
    "if gender == 0: \n",
    "    stunting_mapping = {0: 'Normal', 1: 'Severely Stunted', 2: 'Stunted', 3: 'Tall'}\n",
    "else: \n",
    "    stunting_mapping = {0: 'Normal', 1: 'Severely Stunted', 2: 'Stunted', 3: 'Tall'}\n",
    "\n",
    "if gender == 0:\n",
    "    wasting_mapping = {0: 'Normal', 1: 'Risk of Overweight', 2: 'Severely Underweight', 3: 'Underweight'}\n",
    "else:  \n",
    "    wasting_mapping = {0: 'Normal', 1: 'Risk of Overweight', 2: 'Severely Underweight', 3: 'Underweight'}\n",
    "\n",
    "stunting_pred_label = stunting_mapping[np.argmax(stunting_pred)]\n",
    "wasting_pred_label = wasting_mapping[np.argmax(wasting_pred)]\n",
    "\n",
    "print(f\"Prediksi Stunting: {stunting_pred_label}\")\n",
    "print(f\"Prediksi Wasting: {wasting_pred_label}\")\n"
   ]
  },
  {
   "cell_type": "markdown",
   "id": "f775aaec",
   "metadata": {
    "papermill": {
     "duration": 0.048418,
     "end_time": "2024-11-25T11:52:14.669646",
     "exception": false,
     "start_time": "2024-11-25T11:52:14.621228",
     "status": "completed"
    },
    "tags": []
   },
   "source": [
    "# Model Saving\n",
    "\n",
    "### Menyimpan mode ke dalam bentuk h5.\n",
    "\n",
    "Model yang telah di lakukan uji coba dengan data baru di atas, disimpan menggunakan model h5"
   ]
  },
  {
   "cell_type": "code",
   "execution_count": 19,
   "id": "2c476b28",
   "metadata": {
    "execution": {
     "iopub.execute_input": "2024-11-25T11:52:14.771832Z",
     "iopub.status.busy": "2024-11-25T11:52:14.771452Z",
     "iopub.status.idle": "2024-11-25T11:52:14.816177Z",
     "shell.execute_reply": "2024-11-25T11:52:14.814992Z"
    },
    "papermill": {
     "duration": 0.098488,
     "end_time": "2024-11-25T11:52:14.818700",
     "exception": false,
     "start_time": "2024-11-25T11:52:14.720212",
     "status": "completed"
    },
    "tags": []
   },
   "outputs": [],
   "source": [
    "model.save('/kaggle/working/model 1.h5')"
   ]
  }
 ],
 "metadata": {
  "kaggle": {
   "accelerator": "none",
   "dataSources": [
    {
     "datasetId": 6103625,
     "sourceId": 9929802,
     "sourceType": "datasetVersion"
    }
   ],
   "dockerImageVersionId": 30786,
   "isGpuEnabled": false,
   "isInternetEnabled": true,
   "language": "python",
   "sourceType": "notebook"
  },
  "kernelspec": {
   "display_name": "Python 3",
   "language": "python",
   "name": "python3"
  },
  "language_info": {
   "codemirror_mode": {
    "name": "ipython",
    "version": 3
   },
   "file_extension": ".py",
   "mimetype": "text/x-python",
   "name": "python",
   "nbconvert_exporter": "python",
   "pygments_lexer": "ipython3",
   "version": "3.10.14"
  },
  "papermill": {
   "default_parameters": {},
   "duration": 68.937599,
   "end_time": "2024-11-25T11:52:16.491829",
   "environment_variables": {},
   "exception": null,
   "input_path": "__notebook__.ipynb",
   "output_path": "__notebook__.ipynb",
   "parameters": {},
   "start_time": "2024-11-25T11:51:07.554230",
   "version": "2.6.0"
  }
 },
 "nbformat": 4,
 "nbformat_minor": 5
}
