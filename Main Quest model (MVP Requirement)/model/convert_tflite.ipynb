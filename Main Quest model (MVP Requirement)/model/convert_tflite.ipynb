{
 "cells": [
  {
   "cell_type": "code",
   "execution_count": 1,
   "metadata": {},
   "outputs": [
    {
     "name": "stderr",
     "output_type": "stream",
     "text": [
      "WARNING:absl:Compiled the loaded model, but the compiled metrics have yet to be built. `model.compile_metrics` will be empty until you train or evaluate the model.\n"
     ]
    },
    {
     "name": "stdout",
     "output_type": "stream",
     "text": [
      "INFO:tensorflow:Assets written to: C:\\Users\\MYASUS~1\\AppData\\Local\\Temp\\tmpr_v13fai\\assets\n"
     ]
    },
    {
     "name": "stderr",
     "output_type": "stream",
     "text": [
      "INFO:tensorflow:Assets written to: C:\\Users\\MYASUS~1\\AppData\\Local\\Temp\\tmpr_v13fai\\assets\n"
     ]
    },
    {
     "name": "stdout",
     "output_type": "stream",
     "text": [
      "Saved artifact at 'C:\\Users\\MYASUS~1\\AppData\\Local\\Temp\\tmpr_v13fai'. The following endpoints are available:\n",
      "\n",
      "* Endpoint 'serve'\n",
      "  args_0 (POSITIONAL_ONLY): TensorSpec(shape=(None, 6), dtype=tf.float32, name='input_layer')\n",
      "Output Type:\n",
      "  TensorSpec(shape=(None, 3), dtype=tf.float32, name=None)\n",
      "Captures:\n",
      "  2109048337808: TensorSpec(shape=(), dtype=tf.resource, name=None)\n",
      "  2109048337616: TensorSpec(shape=(), dtype=tf.resource, name=None)\n",
      "  2109048338768: TensorSpec(shape=(), dtype=tf.resource, name=None)\n",
      "  2109048340304: TensorSpec(shape=(), dtype=tf.resource, name=None)\n",
      "  2109049242832: TensorSpec(shape=(), dtype=tf.resource, name=None)\n",
      "  2109049244368: TensorSpec(shape=(), dtype=tf.resource, name=None)\n",
      "  2109049243408: TensorSpec(shape=(), dtype=tf.resource, name=None)\n",
      "  2109049245136: TensorSpec(shape=(), dtype=tf.resource, name=None)\n",
      "  2109049244176: TensorSpec(shape=(), dtype=tf.resource, name=None)\n",
      "  2109049246288: TensorSpec(shape=(), dtype=tf.resource, name=None)\n"
     ]
    }
   ],
   "source": [
    "import tensorflow as tf\n",
    "\n",
    "model = tf.keras.models.load_model('model 2.h5')\n",
    "converter = tf.lite.TFLiteConverter.from_keras_model(model)\n",
    "tflite_model = converter.convert()\n",
    "with open('model 2.tflite', 'wb') as f:\n",
    "    f.write(tflite_model)\n"
   ]
  }
 ],
 "metadata": {
  "kernelspec": {
   "display_name": "Python 3",
   "language": "python",
   "name": "python3"
  },
  "language_info": {
   "codemirror_mode": {
    "name": "ipython",
    "version": 3
   },
   "file_extension": ".py",
   "mimetype": "text/x-python",
   "name": "python",
   "nbconvert_exporter": "python",
   "pygments_lexer": "ipython3",
   "version": "3.11.3"
  }
 },
 "nbformat": 4,
 "nbformat_minor": 2
}
