{
  "cells": [
    {
      "cell_type": "markdown",
      "id": "jfECm3V3nQKSN1X2UFXD0nJF",
      "metadata": {
        "tags": [],
        "id": "jfECm3V3nQKSN1X2UFXD0nJF"
      },
      "source": [
        "1. Install the Vertex AI SDK: Open a terminal window and enter the command below. You can also [install it in a virtualenv](https://googleapis.dev/python/aiplatform/latest/index.html)"
      ]
    },
    {
      "cell_type": "code",
      "id": "NrX1OtD0YATF4rudYjAq1xPY",
      "metadata": {
        "tags": [],
        "id": "NrX1OtD0YATF4rudYjAq1xPY"
      },
      "source": [
        "!pip install --upgrade google-cloud-aiplatform"
      ],
      "execution_count": null,
      "outputs": []
    },
    {
      "cell_type": "markdown",
      "id": "tl4UPAbgj1ldb6awEYyYtErs",
      "metadata": {
        "tags": [],
        "id": "tl4UPAbgj1ldb6awEYyYtErs"
      },
      "source": [
        "2. Use the following code in your application to request a model response"
      ]
    },
    {
      "cell_type": "code",
      "id": "Uz1mbFwBuROWr9CSohtQXk81",
      "metadata": {
        "tags": [],
        "id": "Uz1mbFwBuROWr9CSohtQXk81"
      },
      "source": [
        "import base64\n",
        "import vertexai\n",
        "from vertexai.generative_models import GenerativeModel, SafetySetting, Part\n",
        "\n",
        "\n",
        "def multiturn_generate_content():\n",
        "    vertexai.init(project=\"1005631098859\", location=\"us-central1\")\n",
        "    model = GenerativeModel(\n",
        "        \"projects/1005631098859/locations/us-central1/endpoints/6475200997344935936\",\n",
        "    )\n",
        "    chat = model.start_chat()\n",
        "    print(chat.send_message(\n",
        "        [\"\"\"Bayi saya sering rewel dan sulit tidur di malam hari, apakah ini normal?\"\"\"],\n",
        "        generation_config=generation_config,\n",
        "        safety_settings=safety_settings\n",
        "    ))\n",
        "\n",
        "\n",
        "generation_config = {\n",
        "    \"max_output_tokens\": 512,\n",
        "    \"temperature\": 1,\n",
        "    \"top_p\": 1,\n",
        "}\n",
        "\n",
        "safety_settings = [\n",
        "    SafetySetting(\n",
        "        category=SafetySetting.HarmCategory.HARM_CATEGORY_HATE_SPEECH,\n",
        "        threshold=SafetySetting.HarmBlockThreshold.BLOCK_MEDIUM_AND_ABOVE\n",
        "    ),\n",
        "    SafetySetting(\n",
        "        category=SafetySetting.HarmCategory.HARM_CATEGORY_DANGEROUS_CONTENT,\n",
        "        threshold=SafetySetting.HarmBlockThreshold.BLOCK_MEDIUM_AND_ABOVE\n",
        "    ),\n",
        "    SafetySetting(\n",
        "        category=SafetySetting.HarmCategory.HARM_CATEGORY_SEXUALLY_EXPLICIT,\n",
        "        threshold=SafetySetting.HarmBlockThreshold.BLOCK_MEDIUM_AND_ABOVE\n",
        "    ),\n",
        "    SafetySetting(\n",
        "        category=SafetySetting.HarmCategory.HARM_CATEGORY_HARASSMENT,\n",
        "        threshold=SafetySetting.HarmBlockThreshold.BLOCK_MEDIUM_AND_ABOVE\n",
        "    ),\n",
        "]\n",
        "\n",
        "multiturn_generate_content()"
      ],
      "execution_count": null,
      "outputs": []
    }
  ],
  "metadata": {
    "kernelspec": {
      "display_name": "Python 3",
      "language": "python",
      "name": "python3"
    },
    "language_info": {
      "codemirror_mode": {
        "name": "ipython",
        "version": 3
      },
      "file_extension": ".py",
      "mimetype": "text/x-python",
      "name": "python",
      "nbconvert_exporter": "python",
      "pygments_lexer": "ipython3",
      "version": "3.10.10"
    },
    "colab": {
      "provenance": [],
      "name": "Untitled prompt Nov 29, 2024, 1:28:09 PM"
    }
  },
  "nbformat": 4,
  "nbformat_minor": 5
}